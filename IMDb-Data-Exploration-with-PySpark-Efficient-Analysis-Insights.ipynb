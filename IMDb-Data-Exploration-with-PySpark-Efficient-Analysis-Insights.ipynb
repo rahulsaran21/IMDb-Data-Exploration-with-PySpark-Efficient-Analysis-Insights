{
 "cells": [
  {
   "cell_type": "code",
   "execution_count": 1,
   "id": "a778dae2-a88f-4439-84dd-4ed086612866",
   "metadata": {},
   "outputs": [],
   "source": [
    "import os\n",
    "os.environ[\"SPARK_SUBMIT_OPTIONS\"] = \"--conf spark.driver.extraJavaOptions=-Dlog4j.configuration=file:log4j.properties\""
   ]
  },
  {
   "cell_type": "code",
   "execution_count": 2,
   "id": "6b283984-1121-47c1-b8a2-2d2192876832",
   "metadata": {},
   "outputs": [],
   "source": [
    "# Importing the necessary libraries\n",
    "from pyspark.sql import SparkSession\n",
    "from pyspark.sql import functions as F\n",
    "from pyspark.sql.functions import col, when, desc, min, max, avg, sum, corr, explode, split, count\n",
    "import matplotlib.pyplot as plt\n",
    "import seaborn as sns"
   ]
  },
  {
   "cell_type": "code",
   "execution_count": 3,
   "id": "03606b98-6bd2-48e2-a3e1-43c42773f63d",
   "metadata": {},
   "outputs": [
    {
     "name": "stderr",
     "output_type": "stream",
     "text": [
      "Setting default log level to \"WARN\".\n",
      "To adjust logging level use sc.setLogLevel(newLevel). For SparkR, use setLogLevel(newLevel).\n"
     ]
    }
   ],
   "source": [
    "# Initialize Spark session\n",
    "spark = SparkSession.builder \\\n",
    "                    .appName(\"IMDb Data Exploration with PySpark Efficient Analysis Insights\") \\\n",
    "                    .config(\"spark.ui.showConsoleProgress\", \"false\") \\\n",
    "                    .config(\"spark.driver.extraJavaOptions\", \"-Dlog4j.configuration=file:log4j.properties\") \\\n",
    "                    .getOrCreate()\n",
    "\n",
    "# Set Spark log level to ERROR\n",
    "spark.sparkContext.setLogLevel(\"ERROR\")"
   ]
  },
  {
   "cell_type": "code",
   "execution_count": 4,
   "id": "97db82e4-dcf0-4f50-a490-ff87b081a73e",
   "metadata": {},
   "outputs": [
    {
     "name": "stdout",
     "output_type": "stream",
     "text": [
      "+---------+---------+----------------------+----------------------+-------+---------+-------+--------------+------------------------+\n",
      "|tconst   |titleType|primaryTitle          |originalTitle         |isAdult|startYear|endYear|runtimeMinutes|genres                  |\n",
      "+---------+---------+----------------------+----------------------+-------+---------+-------+--------------+------------------------+\n",
      "|tt0000001|short    |Carmencita            |Carmencita            |0      |1894     |\\N     |1             |Documentary,Short       |\n",
      "|tt0000002|short    |Le clown et ses chiens|Le clown et ses chiens|0      |1892     |\\N     |5             |Animation,Short         |\n",
      "|tt0000003|short    |Poor Pierrot          |Pauvre Pierrot        |0      |1892     |\\N     |5             |Animation,Comedy,Romance|\n",
      "|tt0000004|short    |Un bon bock           |Un bon bock           |0      |1892     |\\N     |12            |Animation,Short         |\n",
      "|tt0000005|short    |Blacksmith Scene      |Blacksmith Scene      |0      |1893     |\\N     |1             |Short                   |\n",
      "+---------+---------+----------------------+----------------------+-------+---------+-------+--------------+------------------------+\n",
      "only showing top 5 rows\n",
      "\n",
      "+---------+-------------+--------+\n",
      "|tconst   |averageRating|numVotes|\n",
      "+---------+-------------+--------+\n",
      "|tt0000001|5.7          |2129    |\n",
      "|tt0000002|5.6          |288     |\n",
      "|tt0000003|6.4          |2165    |\n",
      "|tt0000004|5.3          |184     |\n",
      "|tt0000005|6.2          |2892    |\n",
      "+---------+-------------+--------+\n",
      "only showing top 5 rows\n",
      "\n"
     ]
    }
   ],
   "source": [
    "movies_path = \"/Volumes/WD GREEN 256GB/D/Kaggle/IMDb/IMDb Data Files/title.basics.tsv.gz\"\n",
    "ratings_path = \"/Volumes/WD GREEN 256GB/D/Kaggle/IMDb/IMDb Data Files/title.ratings.tsv.gz\"\n",
    "\n",
    "movies_df = spark.read.format(\"csv\") \\\n",
    "                    .option(\"sep\", \"\\t\") \\\n",
    "                    .option(\"header\", \"true\") \\\n",
    "                    .option(\"inferSchema\", \"true\") \\\n",
    "                    .load(movies_path)\n",
    "\n",
    "ratings_df = spark.read.format(\"csv\") \\\n",
    "                    .option(\"sep\", \"\\t\") \\\n",
    "                    .option(\"header\", \"true\") \\\n",
    "                    .option(\"inferSchema\", \"true\") \\\n",
    "                    .load(ratings_path)\n",
    "\n",
    "# Display limited rows if necessary\n",
    "movies_df.show(5, truncate=False)\n",
    "ratings_df.show(5, truncate=False)"
   ]
  },
  {
   "cell_type": "markdown",
   "id": "1415a44f-56c1-4ce3-90e4-a35035b9bbe2",
   "metadata": {},
   "source": [
    "### Handling Missing Values\n",
    "\n",
    "Before proceeding with data analysis, it's important to check for missing values in our dataset. "
   ]
  },
  {
   "cell_type": "code",
   "execution_count": 5,
   "id": "09ce8a5a-0af3-4222-9359-4fae155078a6",
   "metadata": {},
   "outputs": [
    {
     "name": "stdout",
     "output_type": "stream",
     "text": [
      "+------+---------+------------+-------------+-------+---------+-------+--------------+------+\n",
      "|tconst|titleType|primaryTitle|originalTitle|isAdult|startYear|endYear|runtimeMinutes|genres|\n",
      "+------+---------+------------+-------------+-------+---------+-------+--------------+------+\n",
      "|     0|        0|           0|            0|      0|        0|      0|             0|   822|\n",
      "+------+---------+------------+-------------+-------+---------+-------+--------------+------+\n",
      "\n"
     ]
    }
   ],
   "source": [
    "# Checking for null values in the dataset\n",
    "movies_df.select(\n",
    "    [sum(col(column).isNull().cast(\"int\")).alias(column) for column in movies_df.columns]\n",
    ").show()"
   ]
  },
  {
   "cell_type": "code",
   "execution_count": 6,
   "id": "492e65d4-39a8-4851-9ee0-5b5c2e75d585",
   "metadata": {},
   "outputs": [
    {
     "name": "stdout",
     "output_type": "stream",
     "text": [
      "+------+-------------+--------+\n",
      "|tconst|averageRating|numVotes|\n",
      "+------+-------------+--------+\n",
      "|     0|            0|       0|\n",
      "+------+-------------+--------+\n",
      "\n"
     ]
    }
   ],
   "source": [
    "# Checking for null values in the dataset\n",
    "ratings_df.select(\n",
    "    [sum(col(column).isNull().cast(\"int\")).alias(column) for column in ratings_df.columns]\n",
    ").show()"
   ]
  },
  {
   "cell_type": "markdown",
   "id": "bab6acc2-7677-4f71-bdd4-2a5c033b4119",
   "metadata": {},
   "source": [
    "- In **`movies_df`**, we observed **822 missing values** in the `genres` column. This means some movie records do not have genre information.\n",
    "- In **`ratings_df`**, there are **no missing values**, meaning all movies have valid ratings and vote counts.\n",
    "\n",
    "To ensure data consistency, we have handled the missing values in `movies_df` by replacing them with `\"Unknown\"` (or another suitable category based on our approach)."
   ]
  },
  {
   "cell_type": "code",
   "execution_count": 7,
   "id": "d14939d0-e4cd-48a3-9356-62d81aacc23d",
   "metadata": {},
   "outputs": [],
   "source": [
    "movies_df = movies_df.fillna({\"genres\": \"Unknown\"})"
   ]
  },
  {
   "cell_type": "code",
   "execution_count": 8,
   "id": "d5ab997c-be16-4600-bde8-c9a9b91be0fe",
   "metadata": {},
   "outputs": [
    {
     "name": "stdout",
     "output_type": "stream",
     "text": [
      "+------+---------+------------+-------------+-------+---------+-------+--------------+------+\n",
      "|tconst|titleType|primaryTitle|originalTitle|isAdult|startYear|endYear|runtimeMinutes|genres|\n",
      "+------+---------+------------+-------------+-------+---------+-------+--------------+------+\n",
      "|     0|        0|           0|            0|      0|        0|      0|             0|     0|\n",
      "+------+---------+------------+-------------+-------+---------+-------+--------------+------+\n",
      "\n"
     ]
    }
   ],
   "source": [
    "movies_df.select(\n",
    "    [sum(col(column).isNull().cast(\"int\")).alias(column) for column in movies_df.columns]\n",
    ").show()"
   ]
  },
  {
   "cell_type": "markdown",
   "id": "1ad89a2c-b081-4272-8f05-f878a1b924b9",
   "metadata": {},
   "source": [
    "This preprocessing step helps maintain data integrity while avoiding potential issues in downstream analysis."
   ]
  },
  {
   "cell_type": "code",
   "execution_count": 9,
   "id": "e38507a0-19a2-4742-952e-400fd5c5595e",
   "metadata": {},
   "outputs": [
    {
     "name": "stdout",
     "output_type": "stream",
     "text": [
      "Total Rows in movies_df: 11442166\n",
      "Unique Rows in movies_df:11442166\n",
      "Total Rows in rating_df: 1532242\n",
      "Unique Rows in rating_df:1532242\n"
     ]
    }
   ],
   "source": [
    "# Removing duplicate rows from the movies dataset\n",
    "unique_movies_df = movies_df.dropDuplicates()\n",
    "\n",
    "# Printing total and unique row counts for movies_df\n",
    "print(f\"Total Rows in movies_df: {movies_df.count()}\")\n",
    "print(f\"Unique Rows in movies_df:{unique_movies_df.count()}\")\n",
    "\n",
    "# Removing duplicate rows from the ratings dataset\n",
    "unique_ratings_df = ratings_df.dropDuplicates()\n",
    "\n",
    "# Printing total and unique row counts for ratings_df\n",
    "print(f\"Total Rows in rating_df: {ratings_df.count()}\")\n",
    "print(f\"Unique Rows in rating_df:{unique_ratings_df.count()}\")"
   ]
  },
  {
   "cell_type": "markdown",
   "id": "fe7700a0-4c51-42b6-898a-4ee2cd0fb04d",
   "metadata": {},
   "source": [
    "By dropping duplicates, we maintain data integrity and prevent incorrect insights due to redundant records. This confirms that our dataset does not contain any duplicate rows, so no further action is needed."
   ]
  },
  {
   "cell_type": "markdown",
   "id": "151e7f06-9ad8-4ff1-8a96-7bb1dc8cc9ce",
   "metadata": {},
   "source": [
    "## Handling Missing Values and Data Type Conversion"
   ]
  },
  {
   "cell_type": "code",
   "execution_count": 10,
   "id": "3cd4815a-4016-40d7-af41-9eb8135766d7",
   "metadata": {},
   "outputs": [
    {
     "name": "stdout",
     "output_type": "stream",
     "text": [
      "root\n",
      " |-- tconst: string (nullable = true)\n",
      " |-- titleType: string (nullable = true)\n",
      " |-- primaryTitle: string (nullable = true)\n",
      " |-- originalTitle: string (nullable = true)\n",
      " |-- isAdult: string (nullable = true)\n",
      " |-- startYear: string (nullable = true)\n",
      " |-- endYear: string (nullable = true)\n",
      " |-- runtimeMinutes: string (nullable = true)\n",
      " |-- genres: string (nullable = false)\n",
      "\n",
      "root\n",
      " |-- tconst: string (nullable = true)\n",
      " |-- averageRating: double (nullable = true)\n",
      " |-- numVotes: integer (nullable = true)\n",
      "\n"
     ]
    }
   ],
   "source": [
    "# Printing the schema to verify inferred types\n",
    "movies_df.printSchema()\n",
    "ratings_df.printSchema()"
   ]
  },
  {
   "cell_type": "markdown",
   "id": "872ff1e4-dbcf-43ed-ac3b-5d11fdceafc3",
   "metadata": {},
   "source": [
    "After checking the inferred schema, we identified four columns in `movies_df` that had incorrect data types:  \n",
    "\n",
    "- **`isAdult`** was incorrectly stored as a string instead of an integer.\n",
    "- **`startYear`** and **`endYear`** were stored as strings, whereas they should be integers.\n",
    "- **`runtimeMinutes`** was also stored as a string but should be an integer. "
   ]
  },
  {
   "cell_type": "code",
   "execution_count": 11,
   "id": "ecfa271c-7f7a-48ac-8fa1-f3240270634f",
   "metadata": {},
   "outputs": [
    {
     "name": "stdout",
     "output_type": "stream",
     "text": [
      "+-------+---------+-------+--------------+\n",
      "|isAdult|startYear|endYear|runtimeMinutes|\n",
      "+-------+---------+-------+--------------+\n",
      "|      0|     1894|     \\N|             1|\n",
      "|      0|     1892|     \\N|             5|\n",
      "|      0|     1892|     \\N|             5|\n",
      "|      0|     1892|     \\N|            12|\n",
      "|      0|     1893|     \\N|             1|\n",
      "|      0|     1894|     \\N|             1|\n",
      "|      0|     1894|     \\N|             1|\n",
      "|      0|     1894|     \\N|             1|\n",
      "|      0|     1894|     \\N|            45|\n",
      "|      0|     1895|     \\N|             1|\n",
      "+-------+---------+-------+--------------+\n",
      "only showing top 10 rows\n",
      "\n"
     ]
    }
   ],
   "source": [
    "movies_df.select(\"isAdult\",\"startYear\",\"endYear\",\"runtimeMinutes\").show(10)"
   ]
  },
  {
   "cell_type": "markdown",
   "id": "fdca5a2d-c6ef-47cb-95a1-de3d44898264",
   "metadata": {},
   "source": [
    "- The **`endYear`** column contained missing values represented as `\\N`, which needed to be replaced with `NULL` for proper handling."
   ]
  },
  {
   "cell_type": "code",
   "execution_count": 12,
   "id": "7e6adf69-37c1-4d3a-9b44-f9077d2b0d24",
   "metadata": {},
   "outputs": [
    {
     "name": "stdout",
     "output_type": "stream",
     "text": [
      "root\n",
      " |-- tconst: string (nullable = true)\n",
      " |-- titleType: string (nullable = true)\n",
      " |-- primaryTitle: string (nullable = true)\n",
      " |-- originalTitle: string (nullable = true)\n",
      " |-- isAdult: boolean (nullable = true)\n",
      " |-- startYear: integer (nullable = true)\n",
      " |-- endYear: integer (nullable = true)\n",
      " |-- runtimeMinutes: integer (nullable = true)\n",
      " |-- genres: string (nullable = false)\n",
      "\n",
      "+---------+---------+--------------------+--------------------+-------+---------+-------+--------------+--------------------+\n",
      "|   tconst|titleType|        primaryTitle|       originalTitle|isAdult|startYear|endYear|runtimeMinutes|              genres|\n",
      "+---------+---------+--------------------+--------------------+-------+---------+-------+--------------+--------------------+\n",
      "|tt0000001|    short|          Carmencita|          Carmencita|  false|     1894|   NULL|             1|   Documentary,Short|\n",
      "|tt0000002|    short|Le clown et ses c...|Le clown et ses c...|  false|     1892|   NULL|             5|     Animation,Short|\n",
      "|tt0000003|    short|        Poor Pierrot|      Pauvre Pierrot|  false|     1892|   NULL|             5|Animation,Comedy,...|\n",
      "|tt0000004|    short|         Un bon bock|         Un bon bock|  false|     1892|   NULL|            12|     Animation,Short|\n",
      "|tt0000005|    short|    Blacksmith Scene|    Blacksmith Scene|  false|     1893|   NULL|             1|               Short|\n",
      "|tt0000006|    short|   Chinese Opium Den|   Chinese Opium Den|  false|     1894|   NULL|             1|               Short|\n",
      "|tt0000007|    short|Corbett and Court...|Corbett and Court...|  false|     1894|   NULL|             1|         Short,Sport|\n",
      "|tt0000008|    short|Edison Kinetoscop...|Edison Kinetoscop...|  false|     1894|   NULL|             1|   Documentary,Short|\n",
      "|tt0000009|    movie|          Miss Jerry|          Miss Jerry|  false|     1894|   NULL|            45|             Romance|\n",
      "|tt0000010|    short| Leaving the Factory|La sortie de l'us...|  false|     1895|   NULL|             1|   Documentary,Short|\n",
      "+---------+---------+--------------------+--------------------+-------+---------+-------+--------------+--------------------+\n",
      "only showing top 10 rows\n",
      "\n"
     ]
    }
   ],
   "source": [
    "# Replacing \"\\N\" with null in endYear column\n",
    "movies_df = movies_df.withColumn(\"endYear\",\n",
    "                                 when(movies_df[\"endYear\"] == \"\\\\N\", None).otherwise(movies_df[\"endYear\"]))\n",
    "# Casting columns to correct data types\n",
    "movies_df = movies_df.withColumn(\"isAdult\", movies_df['isAdult'].cast(\"boolean\")) \\\n",
    "                     .withColumn(\"startYear\", movies_df['startYear'].cast(\"int\")) \\\n",
    "                     .withColumn(\"endYear\", movies_df['endYear'].cast(\"int\")) \\\n",
    "                     .withColumn(\"runtimeMinutes\", movies_df['runtimeMinutes'].cast(\"int\"))\n",
    "\n",
    "# Checking schema and data\n",
    "movies_df.printSchema()\n",
    "movies_df.show(10)"
   ]
  },
  {
   "cell_type": "markdown",
   "id": "7127f132-065a-42b9-9f0e-fdc663e79b89",
   "metadata": {},
   "source": [
    "- Replaced `\\N` in **`endYear`** with `NULL`.\n",
    "- Converted **`isAdult`** to a boolean (`True/False`).\n",
    "- Changed **`startYear`**, **`endYear`**, and **`runtimeMinutes`** to integers.\n",
    "\n",
    "Now, our dataset is correctly formatted and ready for further analysis. 🚀"
   ]
  },
  {
   "cell_type": "raw",
   "id": "171dd2dd-b0a0-4bac-b381-700e58a194c2",
   "metadata": {},
   "source": []
  },
  {
   "cell_type": "markdown",
   "id": "0042458b-b6aa-4333-9dbd-9d43213d8141",
   "metadata": {},
   "source": [
    "## Identifying Outliers\n",
    "\n",
    "Since we're working with movies data, the key numerical columns that may have outliers are:\n",
    "\n",
    "- `startYear` (Unrealistic years)\n",
    "- `runtimeMinutes` (Extremely short or long movies)\n",
    "- `numVotes` (Highly skewed popularity)\n",
    "\n",
    "An outlier is a data point that significantly differs from other observations in a dataset. Outliers can occur due to variability in the data, errors in data collection, or rare events. They can affect statistical analysis and machine learning models by skewing results or introducing bias. Let's break this down and figure out how to handle these outliers:\n",
    "\n",
    "1. **Unrealistic Future Years** <br>\n",
    "- Since IMDb includes upcoming movies, we might see some with release years beyond the current year (2025).\n",
    "- To filter them out, we can set a reasonable threshold, e.g., remove any movies with `startYear` greater than 2025 (or slightly higher based on your preference).\n",
    "\n",
    "2. **Extreme Runtime Values** <br>\n",
    "- **Short films** naturally have low runtimes (like 1-10 minutes), so they are not necessarily outliers.\n",
    "- **TV series episodes** might have shorter durations (like 20-60 minutes).\n",
    "- **Full-length movies** usually range between 60-300 minutes.\n",
    "- **Extremely high runtimes (e.g., 30,000+ minutes)** could be TV series where the total duration is recorded incorrectly."
   ]
  },
  {
   "cell_type": "code",
   "execution_count": 13,
   "id": "16c13880-70ea-47e9-ba86-608d0037cdb5",
   "metadata": {},
   "outputs": [],
   "source": [
    "# Intialize the filtered_df = movies_df, in this case we are copying the Movies Dataframe to a Dataframe called filtered_df.\n",
    "old_movies_df = movies_df"
   ]
  },
  {
   "cell_type": "markdown",
   "id": "5fa3ae12-4102-4289-9aaf-5d74fb0c00ca",
   "metadata": {},
   "source": [
    "### Let's break this down and figure out how to handle these outliers:\n",
    "#### 1. Checking Outliers in `startYear`:"
   ]
  },
  {
   "cell_type": "code",
   "execution_count": 14,
   "id": "339a8ad9-4b02-477d-a779-0c2114146df0",
   "metadata": {},
   "outputs": [
    {
     "name": "stdout",
     "output_type": "stream",
     "text": [
      "+--------------+--------------+------------+------------+\n",
      "|min(startYear)|max(startYear)|min(endYear)|max(endYear)|\n",
      "+--------------+--------------+------------+------------+\n",
      "|          1874|          2031|           3|        2030|\n",
      "+--------------+--------------+------------+------------+\n",
      "\n",
      "+------------+-------------+-------------+\n",
      "|   titleType|min_startYear|max_startYear|\n",
      "+------------+-------------+-------------+\n",
      "|    tvSeries|         1927|         2029|\n",
      "|tvMiniSeries|         1928|         2030|\n",
      "|     tvMovie|         1928|         2026|\n",
      "|     tvPilot|         1991|         1991|\n",
      "|   tvEpisode|         1928|         2030|\n",
      "|       movie|         1894|         2031|\n",
      "|   tvSpecial|         1931|         2026|\n",
      "|       video|         1923|         2026|\n",
      "|   videoGame|         1958|         2026|\n",
      "|     tvShort|         1929|         2025|\n",
      "|       short|         1874|         2030|\n",
      "+------------+-------------+-------------+\n",
      "\n"
     ]
    }
   ],
   "source": [
    "old_movies_df.selectExpr(\"min(startYear)\", \"max(startYear)\", \"min(endYear)\", \"max(endYear)\").show()\n",
    "\n",
    "old_movies_df.groupBy(\"titleType\").agg(min(\"startYear\").alias(\"min_startYear\"),\n",
    "                                   max(\"startYear\").alias(\"max_startYear\"),\n",
    "                                  ).show()"
   ]
  },
  {
   "cell_type": "markdown",
   "id": "8dd07f0d-4ef5-4444-bcac-893312e51b7c",
   "metadata": {},
   "source": [
    "We examined the minimum and maximum values for `startYear` and `endYear` across different `titleType` categories.\n",
    "- The maximum `startYear` in the dataset is `2031` (which is likely an outlier for some categories).\n",
    "- Some `endYear` values seem incorrect (e.g., `3`)."
   ]
  },
  {
   "cell_type": "markdown",
   "id": "5027c483-2e15-4a99-944c-4d75e165261c",
   "metadata": {},
   "source": [
    "To refine the data, we set different `startYear` thresholds for movies, TV series, and other categories, ensuring only reasonable future years are retained."
   ]
  },
  {
   "cell_type": "code",
   "execution_count": 15,
   "id": "4500f1bd-4138-4b81-ba73-bacd3eecd263",
   "metadata": {},
   "outputs": [
    {
     "name": "stdout",
     "output_type": "stream",
     "text": [
      "+------------+-------------+-------------+\n",
      "|   titleType|min_startYear|max_startYear|\n",
      "+------------+-------------+-------------+\n",
      "|    tvSeries|         1927|         2029|\n",
      "|tvMiniSeries|         1928|         2030|\n",
      "|     tvMovie|         1928|         2025|\n",
      "|   tvEpisode|         1928|         2030|\n",
      "|       movie|         1894|         2025|\n",
      "|   tvSpecial|         1931|         2026|\n",
      "|       video|         1923|         2025|\n",
      "|   videoGame|         1958|         2025|\n",
      "|     tvShort|         1929|         2025|\n",
      "|       short|         1874|         2025|\n",
      "+------------+-------------+-------------+\n",
      "\n"
     ]
    }
   ],
   "source": [
    "# Define filtering conditions for the startYear column based on titleType\n",
    "conditions = when((col('titleType') == 'tvMovie') & (col('startYear') <= 2025), True) \\\n",
    "                .when((col('titleType') == 'movie') & (col('startYear') <= 2025), True) \\\n",
    "                .when((col('titleType') == 'video') & (col('startYear') <= 2025), True) \\\n",
    "                .when((col('titleType') == 'videoGame') & (col('startYear') <= 2025), True) \\\n",
    "                .when((col('titleType') == 'tvShort') & (col('startYear') <= 2025), True) \\\n",
    "                .when((col('titleType') == 'short') & (col('startYear') <= 2025), True) \\\n",
    "                .when((col('titleType') == 'tvSeries') & (col('startYear') <= 2030), True) \\\n",
    "                .when((col('titleType') == 'tvMiniSeries') & (col('startYear') <= 2030), True) \\\n",
    "                .when((col('titleType') == 'tvEpisode') & (col('startYear') <= 2030), True) \\\n",
    "                .when((col('titleType') == 'tvSpecial') & (col('startYear') <= 2030), True) \\\n",
    "                .otherwise(False)\n",
    "\n",
    "movies_df = old_movies_df.withColumn(\"meet_conditions\", conditions) \\\n",
    "                        .filter(col(\"meet_conditions\") == True) \\\n",
    "                        .drop(\"meet_conditions\")\n",
    "\n",
    "movies_df.groupBy(\"titleType\").agg(min(\"startYear\").alias(\"min_startYear\"),\n",
    "                                   max(\"startYear\").alias(\"max_startYear\"),\n",
    "                                  ).show()"
   ]
  },
  {
   "cell_type": "markdown",
   "id": "4476e5a0-91de-440a-afce-5f88036f099e",
   "metadata": {},
   "source": [
    "**Filtering applied**:\n",
    "\n",
    "- Movies, videos, video games, and shorts are limited to `2025`\n",
    "- TV series, mini-series, and episodes are allowed up to `2030`"
   ]
  },
  {
   "cell_type": "markdown",
   "id": "2d00bafa-7d36-44a6-8060-9cfb0beb0c10",
   "metadata": {},
   "source": [
    "#### 2. Checking Outliers in `runtimeMinutes`:"
   ]
  },
  {
   "cell_type": "code",
   "execution_count": 16,
   "id": "49a30b01-b88c-4ba8-bef5-a525f512f7f3",
   "metadata": {},
   "outputs": [
    {
     "name": "stdout",
     "output_type": "stream",
     "text": [
      "+------------+-----------+-----------+------------------+\n",
      "|   titleType|min_runtime|max_runtime|       avg_runtime|\n",
      "+------------+-----------+-----------+------------------+\n",
      "|    tvSeries|          1|    3692080| 81.34235420792555|\n",
      "|tvMiniSeries|          1|      37440| 74.88083329286651|\n",
      "|     tvMovie|          1|       3720| 71.79331491011357|\n",
      "|     tvPilot|       NULL|       NULL|              NULL|\n",
      "|   tvEpisode|          1|       6000|38.306058178051806|\n",
      "|       movie|          1|      59460| 89.70951883833634|\n",
      "|   tvSpecial|          1|      17280| 86.49027519974175|\n",
      "|       video|          1|      35791| 69.86336429906812|\n",
      "|   videoGame|          1|       1800|105.54875283446712|\n",
      "|     tvShort|          1|        120|12.139262472885033|\n",
      "|       short|          0|        360|13.091488564489234|\n",
      "+------------+-----------+-----------+------------------+\n",
      "\n"
     ]
    }
   ],
   "source": [
    "old_movies_df.groupBy(\"titleType\").agg(min(\"runtimeMinutes\").alias(\"min_runtime\"),\n",
    "                                   max(\"runtimeMinutes\").alias(\"max_runtime\"),\n",
    "                                   avg(\"runtimeMinutes\").alias(\"avg_runtime\")\n",
    "                                  ).show()"
   ]
  },
  {
   "cell_type": "markdown",
   "id": "de99cec0-79f5-44fc-a072-10beea2b7649",
   "metadata": {},
   "source": [
    "We analyzed the minimum, maximum, and average runtime across different `titleType` categories.\n",
    "\n",
    "- Some runtimeMinutes values are extremely high, such as 3,692,080 minutes (≈7 years!) for TV series.\n",
    "- Short films and TV episodes have expected durations.\n",
    "- The highest runtimeMinutes in movie category is 59,460 minutes (≈41 days!), which is unrealistic."
   ]
  },
  {
   "cell_type": "code",
   "execution_count": 18,
   "id": "54ae228b-e887-4ced-8b18-e5663330b031",
   "metadata": {},
   "outputs": [
    {
     "name": "stdout",
     "output_type": "stream",
     "text": [
      "+------------+-----------+-----------+------------------+\n",
      "|   titleType|min_runtime|max_runtime|       avg_runtime|\n",
      "+------------+-----------+-----------+------------------+\n",
      "|    tvSeries|          1|       1500| 44.93794798080845|\n",
      "|tvMiniSeries|          1|       1080| 73.10273502597785|\n",
      "|     tvMovie|          1|        498| 71.46928069969016|\n",
      "|   tvEpisode|          1|        300| 38.02999565004622|\n",
      "|       movie|          1|        500| 88.90425103069171|\n",
      "|   tvSpecial|          1|       1500| 83.93787915554478|\n",
      "|       video|          1|       1445| 69.08648664366301|\n",
      "|   videoGame|          1|       1495|100.70138888888889|\n",
      "|     tvShort|          1|        120|12.146563047285465|\n",
      "|       short|          0|         60|13.054938441485389|\n",
      "+------------+-----------+-----------+------------------+\n",
      "\n"
     ]
    }
   ],
   "source": [
    "# Define filtering conditions for the runtimeMinutes column based on titleType\n",
    "conditions = when((col('titleType') == 'tvSeries') & (col('runtimeMinutes') <= 1500), True) \\\n",
    "              .when((col('titleType') == 'tvMiniSeries') & (col('runtimeMinutes') <= 1500), True) \\\n",
    "              .when((col('titleType') == 'tvMovie') & (col('runtimeMinutes') <= 500), True) \\\n",
    "              .when((col('titleType') == 'tvEpisode') & (col('runtimeMinutes') <= 300), True) \\\n",
    "              .when((col('titleType') == 'movie') & (col('runtimeMinutes') <= 500), True) \\\n",
    "              .when((col('titleType') == 'tvSpecial') & (col('runtimeMinutes') <= 1500), True) \\\n",
    "              .when((col('titleType') == 'video') & (col('runtimeMinutes') <= 1500), True) \\\n",
    "              .when((col('titleType') == 'videoGame') & (col('runtimeMinutes') <= 1500), True) \\\n",
    "              .when((col('titleType') == 'tvShort') & (col('runtimeMinutes') <= 200), True) \\\n",
    "              .when((col('titleType') == 'short') & (col('runtimeMinutes') <= 60), True) \\\n",
    "\n",
    "movies_df = movies_df.withColumn(\"meet_conditions\", conditions) \\\n",
    "                     .filter(col(\"meet_conditions\") == True) \\\n",
    "                     .drop(\"meet_conditions\")\n",
    "\n",
    "movies_df.groupBy(\"titleType\").agg(min(\"runtimeMinutes\").alias(\"min_runtime\"),\n",
    "                                   max(\"runtimeMinutes\").alias(\"max_runtime\"),\n",
    "                                   avg(\"runtimeMinutes\").alias(\"avg_runtime\")\n",
    "                                  ).show()"
   ]
  },
  {
   "cell_type": "markdown",
   "id": "4942d0ad-be5e-4315-a12f-ab7e9e7a1833",
   "metadata": {},
   "source": [
    "**Filtering applied**:\n",
    "To remove extreme outliers, different thresholds were set:\n",
    "\n",
    "- Movies and TV movies: ≤ **500 minutes**\n",
    "- TV episodes: ≤ **300 minutes**\n",
    "- TV series, specials, and video games: ≤ **1500 minutes**\n",
    "- Shorts: ≤ **60 minutes**"
   ]
  },
  {
   "cell_type": "markdown",
   "id": "ce1b3003-8dfc-4b02-ab53-e2fe7a945583",
   "metadata": {},
   "source": [
    "#### 3. Data Reduction After Filtering:"
   ]
  },
  {
   "cell_type": "code",
   "execution_count": 19,
   "id": "4b82fbf1-46e8-44db-bf6a-b2f5f6d416b0",
   "metadata": {},
   "outputs": [
    {
     "name": "stdout",
     "output_type": "stream",
     "text": [
      "Before Filtering:\n",
      "Total number of records: 11442166\n",
      "After Filtering:\n",
      "Total number of records: 3403012\n"
     ]
    }
   ],
   "source": [
    "print(\"Before Filtering:\")\n",
    "print(f\"Total number of records: {old_movies_df.count()}\")\n",
    "\n",
    "print(\"After Filtering:\")\n",
    "print(f\"Total number of records: {movies_df.count()}\")"
   ]
  },
  {
   "cell_type": "markdown",
   "id": "26385dc3-7dd9-44b7-a8ec-b018075cdf55",
   "metadata": {},
   "source": [
    "Before filtering, the dataset contained **11,442,166 records**.\n",
    "After filtering out outliers, it was reduced to **3,403,012 records**, removing unrealistic values while retaining meaningful data.\n",
    "This ensures a more accurate dataset for further analysis."
   ]
  },
  {
   "cell_type": "markdown",
   "id": "ff77797a-12b1-49f8-94ea-999b784cb6bf",
   "metadata": {},
   "source": [
    "#### Conclusion:\n",
    "Based on the filtering applied, we have successfully identified and removed outliers from the startYear and runtimeMinutes columns based on reasonable thresholds. Here's a breakdown of what was achieved:\n",
    "\n",
    "#### Outliers in startYear\n",
    "- Before filtering, the dataset contained future years up to 2031, which is unrealistic.\n",
    "- We applied different maximum year thresholds:\n",
    "- - **Movies, TV Movies, Videos, Video Games, Shorts: ≤ 2025**\n",
    "- - **TV Series, Mini-Series, Episodes, TV Specials: ≤ 2030**\n",
    "- After filtering, the highest `startYear` for movies is `2025`, and for TV Series-related categories, it is `2030`, ensuring that future years beyond reasonable limits are removed.\n",
    "\n",
    "#### Outliers in runtimeMinutes\n",
    "- Before filtering, extreme values like **3,692,080 minutes (~7 years)** were found.\n",
    "- We applied category-specific upper limits:\n",
    "- - **Movies, TV Movies: ≤ 500 minutes**\n",
    "- - **TV Episodes: ≤ 300 minutes**\n",
    "- - **TV Series, Mini-Series, Specials, Videos, Video Games: ≤ 1500 minutes**\n",
    "- - **Short films: ≤ 60 minutes**\n",
    "- - **TV Shorts: ≤ 200 minutes**\n",
    "- After filtering, the highest runtime for movies is **500 minutes**, and for TV Series, it is **1500 minutes**, ensuring unrealistic durations are removed.\n",
    "\n",
    "#### Final Results\n",
    "- **Total records before filtering: 11,442,166**\n",
    "- **Total records after filtering: 3,403,012**\n",
    "- **Significant reduction in dataset size**, suggesting many outliers were successfully removed.\n",
    "- **Category-wise count shows expected distribution**, with the majority of records being TV Episodes and Movies.\n"
   ]
  },
  {
   "cell_type": "markdown",
   "id": "40d507d6-c060-41a0-a6a0-e074249f7855",
   "metadata": {},
   "source": [
    "## Analysis of IMDb Data"
   ]
  },
  {
   "cell_type": "code",
   "execution_count": 21,
   "id": "4b21eba9-4d69-4775-9726-ff64303b35da",
   "metadata": {},
   "outputs": [
    {
     "name": "stdout",
     "output_type": "stream",
     "text": [
      "Total Records: 3403012\n",
      "+------------+-------+\n",
      "|   titleType|  count|\n",
      "+------------+-------+\n",
      "|    tvSeries| 102962|\n",
      "|tvMiniSeries|  20402|\n",
      "|     tvMovie| 101988|\n",
      "|   tvEpisode|1839100|\n",
      "|       movie| 436600|\n",
      "|   tvSpecial|  24726|\n",
      "|       video| 206344|\n",
      "|   videoGame|    432|\n",
      "|     tvShort|   9136|\n",
      "|       short| 661322|\n",
      "+------------+-------+\n",
      "\n"
     ]
    }
   ],
   "source": [
    "# Total records\n",
    "print(f\"Total Records: {movies_df.count()}\")\n",
    "movies_df.groupBy(\"titleType\").count().show()"
   ]
  },
  {
   "cell_type": "markdown",
   "id": "02aad305-06ea-4430-8c03-2a1e3331ae28",
   "metadata": {},
   "source": [
    "Now we have a clear view of our cleaned dataset. Here’s what we’ve confirmed:\n",
    "\n",
    "- **Total records**: 3,403,012\n",
    "- **Most common title types**: `tvEpisode` (1.83M), `movie` (436K), `short` (661K)\n",
    "- **Least common**: `videoGame` (only 432 records)"
   ]
  },
  {
   "cell_type": "markdown",
   "id": "8f393fb3-a9a6-4eb1-9887-198432da2c8c",
   "metadata": {},
   "source": [
    "### Trends Over Time\n",
    "#### 1: Movie Count of Titles Per Year\n",
    "Let's see the number of titles released per year:"
   ]
  },
  {
   "cell_type": "code",
   "execution_count": 22,
   "id": "0ea5e1f2-91ea-41ab-b9df-61840db407e1",
   "metadata": {},
   "outputs": [
    {
     "name": "stdout",
     "output_type": "stream",
     "text": [
      "+---------+---------+-----+\n",
      "|titleType|startYear|count|\n",
      "+---------+---------+-----+\n",
      "|    short|     1874|    1|\n",
      "|    short|     1878|   31|\n",
      "|    short|     1881|   22|\n",
      "|    short|     1882|    2|\n",
      "|    short|     1883|    1|\n",
      "|    short|     1885|    1|\n",
      "|    short|     1887|   31|\n",
      "|    short|     1888|    5|\n",
      "|    short|     1889|    2|\n",
      "|    short|     1890|    6|\n",
      "|    short|     1891|   11|\n",
      "|    short|     1892|    8|\n",
      "|    short|     1893|    8|\n",
      "|    short|     1894|   39|\n",
      "|    movie|     1894|    1|\n",
      "|    short|     1895|   45|\n",
      "|    movie|     1896|    1|\n",
      "|    short|     1896|  302|\n",
      "|    short|     1897|  244|\n",
      "|    movie|     1897|    1|\n",
      "|    short|     1898|  157|\n",
      "|    short|     1899|  162|\n",
      "|    movie|     1899|    1|\n",
      "|    short|     1900|  212|\n",
      "|    movie|     1900|    2|\n",
      "|    short|     1901|  200|\n",
      "|    short|     1902|  151|\n",
      "|    movie|     1903|    2|\n",
      "|    short|     1903|  201|\n",
      "|    movie|     1904|    1|\n",
      "|    short|     1904|  202|\n",
      "|    movie|     1905|    3|\n",
      "|    short|     1905|  195|\n",
      "|    short|     1906|  210|\n",
      "|    movie|     1906|    2|\n",
      "|    movie|     1907|    3|\n",
      "|    short|     1907|  207|\n",
      "|    movie|     1908|    2|\n",
      "|    short|     1908|  291|\n",
      "|    movie|     1909|    5|\n",
      "|    short|     1909|  375|\n",
      "|    short|     1910|  439|\n",
      "|    movie|     1910|   18|\n",
      "|    short|     1911|  639|\n",
      "|    movie|     1911|   28|\n",
      "|    short|     1912| 1041|\n",
      "|    movie|     1912|   49|\n",
      "|    movie|     1913|  144|\n",
      "|    short|     1913| 2839|\n",
      "|    short|     1914| 1616|\n",
      "+---------+---------+-----+\n",
      "only showing top 50 rows\n",
      "\n"
     ]
    }
   ],
   "source": [
    "movies_df.groupBy('titleType', \"startYear\").count().orderBy(col(\"startYear\")).show(50)"
   ]
  },
  {
   "cell_type": "markdown",
   "id": "a4485a5e-4b29-4d7d-b2a3-f52be358adc2",
   "metadata": {},
   "source": [
    "This will help us see if there's a trend—are more movies being produced in recent years?"
   ]
  },
  {
   "cell_type": "markdown",
   "id": "c9f97871-422f-481a-b20d-6c1f141f2628",
   "metadata": {},
   "source": [
    "#### 2: Average Runtime Over Time\n",
    "Now, let's analyze how the average runtime of movies and TV shows has changed over time:"
   ]
  },
  {
   "cell_type": "code",
   "execution_count": 23,
   "id": "267bcd66-ed71-4871-b597-036b2d33d66c",
   "metadata": {},
   "outputs": [
    {
     "name": "stdout",
     "output_type": "stream",
     "text": [
      "+---------+---------+-------------------+\n",
      "|titleType|startYear|avg(runtimeMinutes)|\n",
      "+---------+---------+-------------------+\n",
      "|    short|     1874|                1.0|\n",
      "|    short|     1878|                1.0|\n",
      "|    short|     1881| 1.0454545454545454|\n",
      "|    short|     1882|                1.0|\n",
      "|    short|     1883|                1.0|\n",
      "|    short|     1885|                1.0|\n",
      "|    short|     1887|                1.0|\n",
      "|    short|     1888|                1.0|\n",
      "|    short|     1889|                1.0|\n",
      "|    short|     1890|                1.0|\n",
      "|    short|     1891|                1.0|\n",
      "|    short|     1892|              3.375|\n",
      "|    short|     1893|                1.0|\n",
      "|    short|     1894| 1.2307692307692308|\n",
      "|    movie|     1894|               45.0|\n",
      "|    short|     1895|                1.2|\n",
      "|    movie|     1896|               61.0|\n",
      "|    short|     1896| 1.1158940397350994|\n",
      "|    short|     1897| 1.1721311475409837|\n",
      "|    movie|     1897|              100.0|\n",
      "|    short|     1898| 1.2929936305732483|\n",
      "|    short|     1899|                1.5|\n",
      "|    movie|     1899|              135.0|\n",
      "|    short|     1900| 1.7971698113207548|\n",
      "|    movie|     1900|               59.5|\n",
      "|    short|     1901|              2.535|\n",
      "|    short|     1902|   2.80794701986755|\n",
      "|    movie|     1903|               52.5|\n",
      "|    short|     1903|  2.970149253731343|\n",
      "|    movie|     1904|               68.0|\n",
      "|    short|     1904| 4.0594059405940595|\n",
      "|    movie|     1905|  65.66666666666667|\n",
      "|    short|     1905| 4.5025641025641026|\n",
      "|    short|     1906|  5.819047619047619|\n",
      "|    movie|     1906|               87.5|\n",
      "|    movie|     1907|               78.0|\n",
      "|    short|     1907|  6.705314009661835|\n",
      "|    movie|     1908|               90.0|\n",
      "|    short|     1908|  8.697594501718212|\n",
      "|    movie|     1909|               62.0|\n",
      "|    short|     1909|  8.642666666666667|\n",
      "|    short|     1910| 11.125284738041003|\n",
      "|    movie|     1910|  67.16666666666667|\n",
      "|    short|     1911| 13.383411580594679|\n",
      "|    movie|     1911|  59.82142857142857|\n",
      "|    short|     1912| 12.895292987512008|\n",
      "|    movie|     1912| 60.204081632653065|\n",
      "|    movie|     1913|            68.4375|\n",
      "|    short|     1913| 13.137372314195138|\n",
      "|    short|     1914| 14.900371287128714|\n",
      "+---------+---------+-------------------+\n",
      "only showing top 50 rows\n",
      "\n"
     ]
    }
   ],
   "source": [
    "movies_df.groupBy(\"titleType\", \"startYear\").agg(avg(\"runtimeMinutes\")).orderBy(col(\"startYear\")).show(50)"
   ]
  },
  {
   "cell_type": "markdown",
   "id": "5d40474b-6810-49bc-8c0d-c8417a2fa6c8",
   "metadata": {},
   "source": [
    "#### Observations on Movie Count Over Time:\n",
    "**1. Early Years (1874–1900)**\n",
    "- Movies were extremely rare, with just a handful produced each year.\n",
    "- The late 1800s had short experimental films, mostly a few seconds to a minute long.\n",
    "- The earliest recorded movie dates back to **1894**.\n",
    "\n",
    "**2. 1900-1920**\n",
    "- **Movies became more frequent after the 1900s**, with an increasing trend.\n",
    "- Production increased significantly, surpassing 1,000 movies annually by the early 1910s.\n",
    "- This era saw the transition from short experimental clips to structured films.\n",
    "- **TV series and episodes dominate in modern years**, suggesting the rise of streaming services and TV productions.\n",
    "\n",
    "#### Observations on Runtime Over Time:\n",
    "**1. Pre-1900**\n",
    "- Movies averaged 1-3 minutes in length, reflecting their experimental nature.\n",
    "- The dataset has **many early short films (e.g., 31 short films in 1878)**.\n",
    "\n",
    "**2. 1900–1920**\n",
    "- Runtime gradually increased, reaching an average of 50+ minutes by the 1920s.\n",
    "- Movies stabilized around the 50-minute mark for a while.\n",
    "\n",
    "👉 **Trend: A significant rise in movie and TV content production over time, with an explosion in TV episodes in recent years.**"
   ]
  },
  {
   "cell_type": "code",
   "execution_count": 24,
   "id": "a833b619-f427-431e-9c98-dba9bfce66de",
   "metadata": {},
   "outputs": [
    {
     "name": "stdout",
     "output_type": "stream",
     "text": [
      "+------------+-------------+\n",
      "|   titleType|max_startYear|\n",
      "+------------+-------------+\n",
      "|   tvEpisode|         2027|\n",
      "|    tvSeries|         2026|\n",
      "|tvMiniSeries|         2026|\n",
      "|     tvMovie|         2025|\n",
      "|       movie|         2025|\n",
      "|   tvSpecial|         2025|\n",
      "|       video|         2025|\n",
      "|   videoGame|         2025|\n",
      "|     tvShort|         2025|\n",
      "|       short|         2025|\n",
      "+------------+-------------+\n",
      "\n"
     ]
    }
   ],
   "source": [
    "movies_df.groupBy(\"titleType\").agg(\n",
    "    max(\"startYear\").alias(\"max_startYear\")\n",
    ").orderBy(\"max_startYear\", ascending=False).show()"
   ]
  },
  {
   "cell_type": "raw",
   "id": "49c4401e-8665-4e4a-a0fd-39ef2a9d4227",
   "metadata": {},
   "source": []
  },
  {
   "cell_type": "markdown",
   "id": "e48785f3-b1ba-471b-a18c-c25be92e1af3",
   "metadata": {},
   "source": [
    "### Deeper Explorations in EDA"
   ]
  },
  {
   "cell_type": "markdown",
   "id": "bdece3c5-de0a-4bff-b10f-6d49a60801cc",
   "metadata": {},
   "source": [
    "#### **1. Histogram of Runtimes**"
   ]
  },
  {
   "cell_type": "code",
   "execution_count": 29,
   "id": "ce2c79b9-1e90-4b5a-a9e2-a461e072145a",
   "metadata": {},
   "outputs": [
    {
     "data": {
      "image/png": "[encoded data removed]",
      "text/plain": [
       "<Figure size 1000x500 with 1 Axes>"
      ]
     },
     "metadata": {},
     "output_type": "display_data"
    }
   ],
   "source": [
    "# Filter the DataFrame to include only movies\n",
    "movies_df_filtered = movies_df.where(col('titleType') == 'movie')\n",
    "\n",
    "# Convert the filtered DataFrame to a Pandas DataFrame\n",
    "runtime_df = movies_df_filtered.select(\"runtimeMinutes\").toPandas()\n",
    "\n",
    "# Plot the distribution of movie runtimes\n",
    "plt.figure(figsize=(10,5))\n",
    "plt.hist(runtime_df['runtimeMinutes'], bins=50, edgecolor='black', alpha=0.7)\n",
    "plt.xlabel(\"Runtime (Minutes)\")\n",
    "plt.ylabel(\"Count\")\n",
    "plt.title(\"Distribution of Movie Runtimes\")\n",
    "plt.yscale(\"log\")\n",
    "plt.show()"
   ]
  },
  {
   "cell_type": "markdown",
   "id": "6848f645-6878-4eb3-8e70-395012a04b95",
   "metadata": {},
   "source": [
    "- The majority of movies have a runtime below **150 minutes**, with a sharp decline beyond that.\n",
    "- The distribution has a **long right tail**, suggesting a small number of movies with extremely high runtimes.\n",
    "- A **log scale** helps in revealing the presence of less common but very long movies."
   ]
  },
  {
   "cell_type": "markdown",
   "id": "b3e76f0e-f37f-4a0d-a9d4-c51efaf1af4b",
   "metadata": {},
   "source": [
    "#### **2. Box Plot for Outlier**"
   ]
  },
  {
   "cell_type": "code",
   "execution_count": 30,
   "id": "97c799ca-8c52-4f01-b4a5-96df2ed2f27e",
   "metadata": {},
   "outputs": [
    {
     "data": {
      "image/png": "[encoded data removed]",
      "text/plain": [
       "<Figure size 1000x500 with 1 Axes>"
      ]
     },
     "metadata": {},
     "output_type": "display_data"
    }
   ],
   "source": [
    "plt.figure(figsize=(10,5))\n",
    "\n",
    "sns.boxplot(x=runtime_df['runtimeMinutes'])\n",
    "plt.xlabel(\"Runtime (Minutes)\")\n",
    "plt.title(\"Box Plot of Movie Runtimes\")\n",
    "plt.show()"
   ]
  },
  {
   "cell_type": "markdown",
   "id": "7510b634-c728-4512-99b9-82bce8fb1529",
   "metadata": {},
   "source": [
    "- The box plot confirms the **right-skewed nature** of the runtime distribution.\n",
    "- The **median runtime** is relatively low, around **90–100 minutes**.\n",
    "- **Significant outliers** exist, with many movies far beyond the upper whisker, some exceeding **300+ minutes**.\n",
    "- The presence of extreme values suggests that filtering or capping outliers might be necessary for certain analyses."
   ]
  },
  {
   "cell_type": "markdown",
   "id": "cdc83e97-6de4-432d-b242-a76e0e5f0523",
   "metadata": {},
   "source": [
    "#### **3. Runtimes by Title Type**"
   ]
  },
  {
   "cell_type": "code",
   "execution_count": 32,
   "id": "c97cce63-fbcb-4982-964c-9f3edac514e5",
   "metadata": {},
   "outputs": [
    {
     "data": {
      "image/png": "[encoded data removed]",
      "text/plain": [
       "<Figure size 1200x600 with 1 Axes>"
      ]
     },
     "metadata": {},
     "output_type": "display_data"
    }
   ],
   "source": [
    "title_runtime_df = movies_df.groupBy(\"titleType\").agg(\n",
    "    F.avg(\"runtimeMinutes\").alias(\"avg_runtime\"),\n",
    "    F.percentile_approx(\"runtimeMinutes\", 0.25).alias(\"q1_runtime\"),\n",
    "    F.percentile_approx(\"runtimeMinutes\", 0.50).alias(\"median_runtime\"),\n",
    "    F.percentile_approx(\"runtimeMinutes\", 0.75).alias(\"q3_runtime\")\n",
    ").toPandas()\n",
    "\n",
    "# Plot\n",
    "plt.figure(figsize=(12, 6))\n",
    "sns.barplot(x=\"titleType\", y=\"avg_runtime\", hue=\"titleType\", data=title_runtime_df, palette=\"viridis\")\n",
    "plt.xticks(rotation=30)\n",
    "plt.xlabel(\"Title Type\")\n",
    "plt.ylabel(\"Average Runtime (Minutes)\")\n",
    "plt.title(\"Average Runtimes by Title Type\")\n",
    "plt.show()"
   ]
  },
  {
   "cell_type": "markdown",
   "id": "e942430f-ba48-4f80-878e-a19df89deff2",
   "metadata": {},
   "source": [
    "- **Movies and video games** have the highest average runtimes **(~100–110 minutes)**.\n",
    "- **Shorts and TV episodes** have the lowest runtimes, typically under **30 minutes**.\n",
    "- **TV series and miniseries** fall in the mid-range, with an average runtime of **40–70 minutes**, reflecting the typical structure of episodic content.\n",
    "- **TV movies** also have a slightly lower runtime than theatrical movies, often around **80–90 minutes**, aligning with standard television broadcast formats."
   ]
  },
  {
   "cell_type": "code",
   "execution_count": null,
   "id": "b007fa39-cf7b-4581-a85b-d4aab9961268",
   "metadata": {},
   "outputs": [],
   "source": [
    "movies_df.where(col(\"titleType\") == 'tvPilot').show()"
   ]
  },
  {
   "cell_type": "code",
   "execution_count": null,
   "id": "793dc18f-b09c-49a0-833d-36c43810bac6",
   "metadata": {},
   "outputs": [],
   "source": [
    "imdb_df = filtered_df.join(ratings_df, on=\"tconst\", how=\"inner\")\n",
    "imdb_df.show(5)\n",
    "\n",
    "imdb_df.printSchema()"
   ]
  },
  {
   "cell_type": "code",
   "execution_count": null,
   "id": "c97c8bde-1b8d-4750-899e-a51e8d8d4321",
   "metadata": {},
   "outputs": [],
   "source": [
    "imdb_df.groupBy(\"startYear\") \\\n",
    "           .count() \\\n",
    "           .withColumnRenamed(\"count\", \"movie_count\") \\\n",
    "           .orderBy(col(\"startYear\")) \\\n",
    "           .show(50, False)"
   ]
  },
  {
   "cell_type": "code",
   "execution_count": null,
   "id": "0a262b33-cc57-4fce-a812-08323e7e9768",
   "metadata": {},
   "outputs": [],
   "source": [
    "imdb_df.groupBy(\"startYear\") \\\n",
    "           .agg(avg(\"runtimeMinutes\")).orderBy(col(\"startYear\")) \\\n",
    "           .show(50, False)"
   ]
  },
  {
   "cell_type": "code",
   "execution_count": null,
   "id": "b218b1d7-2cac-41e1-821f-c6a4b2f0b509",
   "metadata": {},
   "outputs": [],
   "source": [
    "title_types = ['tvSeries', 'tvMiniSeries', 'tvMovie', 'tvEpisode', 'movie', 'tvSpecial', 'video', 'videoGame', 'tvShort', 'short']\n",
    "\n",
    "for title in title_types:\n",
    "    df_filtered = imdb_df.filter(col('titleType') == title)\n",
    "    correlations = df_filtered.select(corr(\"averageRating\", \"runtimeMinutes\")).collect()[0][0]\n",
    "    print(f\"Correlation for {title}: {correlations}\")"
   ]
  },
  {
   "cell_type": "code",
   "execution_count": null,
   "id": "e782eaa0-8f8b-4ee0-bdf9-1141ab43a339",
   "metadata": {},
   "outputs": [],
   "source": [
    "genre_df = imdb_df.withColumn(\"genres\", explode(split(col('genres'), \",\")))\n",
    "\n",
    "genre_rating_df = (genre_df.groupBy(\"titleType\", \"genres\")\n",
    "                .agg(avg(\"averageRating\").alias(\"avg_rating\"), \n",
    "                     count(\"*\").alias(\"genre_count\")\n",
    "                    )\n",
    "                .filter(col(\"genre_count\") >= 500)\n",
    "                .orderBy(\"titleType\", col(\"avg_rating\").desc())\n",
    "               )\n",
    "\n",
    "\n",
    "genre_rating_df.show()"
   ]
  },
  {
   "cell_type": "code",
   "execution_count": null,
   "id": "74b6c7cf-c9d6-469c-98fb-82892d14cdd2",
   "metadata": {},
   "outputs": [],
   "source": [
    "# Filter only for movies\n",
    "genre_rating_df = genre_rating_df.filter((col(\"titleType\") == \"movie\") & (col(\"genres\") != \"\\\\N\"))"
   ]
  },
  {
   "cell_type": "code",
   "execution_count": null,
   "id": "e850044d-d057-4130-8018-a427f91317f7",
   "metadata": {},
   "outputs": [],
   "source": [
    "genre_rating_df = genre_rating_df.toPandas()\n",
    "\n",
    "genre_rating_df = genre_rating_df.sort_values(by=\"avg_rating\", ascending=True)\n",
    "\n",
    "plt.figure(figsize=(10,6))\n",
    "sns.barplot(x=\"avg_rating\", y=\"genres\", hue=\"avg_rating\", data=genre_rating_df, palette=\"viridis\")\n",
    "\n",
    "plt.xlabel(\"Average Rating\", fontsize=12)\n",
    "plt.ylabel(\"Genre\", fontsize=12)\n",
    "plt.title(\"Average IMDB Rating by Genre (Movies)\", fontsize=14)\n",
    "plt.grid(axis=\"x\", linestyle=\"--\", alpha=0.7)\n",
    "\n",
    "plt.show()"
   ]
  },
  {
   "cell_type": "code",
   "execution_count": null,
   "id": "9d80918a-24c9-4106-8417-5d7a6d71ae73",
   "metadata": {},
   "outputs": [],
   "source": [
    "df_pandas = genre_rating_df\n",
    "\n",
    "# Set figure size\n",
    "plt.figure(figsize=(12, 6))\n",
    "\n",
    "# Scatter plot\n",
    "sns.scatterplot(\n",
    "    x=df_pandas[\"genre_count\"], \n",
    "    y=df_pandas[\"avg_rating\"], \n",
    "    hue=df_pandas[\"avg_rating\"],  # Color based on rating\n",
    "    palette=\"viridis\", \n",
    "    size=df_pandas[\"avg_rating\"],  # Size based on rating\n",
    "    sizes=(20, 200),  # Adjust point size range\n",
    "    alpha=0.75  # Transparency\n",
    ")\n",
    "\n",
    "# Labels and title\n",
    "plt.xlabel(\"Number of Movies in Genre\")\n",
    "plt.ylabel(\"Average IMDB Rating\")\n",
    "plt.title(\"Genre Popularity vs. Average Rating\")\n",
    "plt.xscale(\"log\")  # Log scale for better visualization if needed\n",
    "plt.legend(title=\"Avg Rating\", bbox_to_anchor=(1.05, 1), loc=\"upper left\")\n",
    "\n",
    "# Show plot\n",
    "plt.show()"
   ]
  },
  {
   "cell_type": "code",
   "execution_count": null,
   "id": "f5aa728b-44df-4fa5-924f-f58a720d3b27",
   "metadata": {},
   "outputs": [],
   "source": [
    "genre_df.show()"
   ]
  },
  {
   "cell_type": "code",
   "execution_count": null,
   "id": "aaf7f65d-d8cc-45cf-8e43-f6a83112565f",
   "metadata": {},
   "outputs": [],
   "source": [
    "filtered_df.where((col('startYear') > 1800) & (col('startYear') < 1900 )).groupBy('titleType', \"startYear\").count().orderBy(col(\"startYear\")).show(50)"
   ]
  },
  {
   "cell_type": "code",
   "execution_count": null,
   "id": "0505a388-a0ed-4507-88ba-a2878f848678",
   "metadata": {},
   "outputs": [],
   "source": []
  }
 ],
 "metadata": {
  "kernelspec": {
   "display_name": "Python 3 (ipykernel)",
   "language": "python",
   "name": "python3"
  },
  "language_info": {
   "codemirror_mode": {
    "name": "ipython",
    "version": 3
   },
   "file_extension": ".py",
   "mimetype": "text/x-python",
   "name": "python",
   "nbconvert_exporter": "python",
   "pygments_lexer": "ipython3",
   "version": "3.11.9"
  }
 },
 "nbformat": 4,
 "nbformat_minor": 5
}
