{
 "cells": [
  {
   "cell_type": "code",
   "execution_count": 1,
   "id": "6b283984-1121-47c1-b8a2-2d2192876832",
   "metadata": {},
   "outputs": [],
   "source": [
    "from pyspark.sql import SparkSession\n",
    "from pyspark.sql.functions import col, when, desc, min, max, avg, sum\n",
    "import pandas as pd"
   ]
  },
  {
   "cell_type": "code",
   "execution_count": 2,
   "id": "03606b98-6bd2-48e2-a3e1-43c42773f63d",
   "metadata": {},
   "outputs": [
    {
     "name": "stderr",
     "output_type": "stream",
     "text": [
      "25/02/12 18:30:12 WARN Utils: Your hostname, Rahuls-MacBook-Pro.local resolves to a loopback address: 127.0.0.1; using 192.168.0.171 instead (on interface en0)\n",
      "25/02/12 18:30:12 WARN Utils: Set SPARK_LOCAL_IP if you need to bind to another address\n",
      "Setting default log level to \"WARN\".\n",
      "To adjust logging level use sc.setLogLevel(newLevel). For SparkR, use setLogLevel(newLevel).\n",
      "25/02/12 18:30:12 WARN NativeCodeLoader: Unable to load native-hadoop library for your platform... using builtin-java classes where applicable\n",
      "                                                                                "
     ]
    },
    {
     "name": "stdout",
     "output_type": "stream",
     "text": [
      "+---------+---------+--------------------+--------------------+-------+---------+-------+--------------+--------------------+\n",
      "|   tconst|titleType|        primaryTitle|       originalTitle|isAdult|startYear|endYear|runtimeMinutes|              genres|\n",
      "+---------+---------+--------------------+--------------------+-------+---------+-------+--------------+--------------------+\n",
      "|tt0000001|    short|          Carmencita|          Carmencita|      0|     1894|     \\N|             1|   Documentary,Short|\n",
      "|tt0000002|    short|Le clown et ses c...|Le clown et ses c...|      0|     1892|     \\N|             5|     Animation,Short|\n",
      "|tt0000003|    short|        Poor Pierrot|      Pauvre Pierrot|      0|     1892|     \\N|             5|Animation,Comedy,...|\n",
      "|tt0000004|    short|         Un bon bock|         Un bon bock|      0|     1892|     \\N|            12|     Animation,Short|\n",
      "|tt0000005|    short|    Blacksmith Scene|    Blacksmith Scene|      0|     1893|     \\N|             1|               Short|\n",
      "+---------+---------+--------------------+--------------------+-------+---------+-------+--------------+--------------------+\n",
      "only showing top 5 rows\n",
      "\n",
      "+---------+-------------+--------+\n",
      "|   tconst|averageRating|numVotes|\n",
      "+---------+-------------+--------+\n",
      "|tt0000001|          5.7|    2129|\n",
      "|tt0000002|          5.6|     288|\n",
      "|tt0000003|          6.4|    2165|\n",
      "|tt0000004|          5.3|     184|\n",
      "|tt0000005|          6.2|    2892|\n",
      "+---------+-------------+--------+\n",
      "only showing top 5 rows\n",
      "\n"
     ]
    }
   ],
   "source": [
    "spark = SparkSession.builder \\\n",
    "                    .appName(\"IMDb Insights with PySpark\") \\\n",
    "                    .getOrCreate()\n",
    "\n",
    "movies_path = \"/Users/rahulsaranm/Desktop/Projects/Data Projects/IMDb Data Files/title.basics.tsv.gz\"\n",
    "ratings_path = \"/Users/rahulsaranm/Desktop/Projects/Data Projects/IMDb Data Files/title.ratings.tsv.gz\"\n",
    "\n",
    "movies_df = spark.read.format(\"csv\") \\\n",
    "                    .option(\"sep\", \"\\t\") \\\n",
    "                    .option(\"header\", \"true\") \\\n",
    "                    .option(\"inferSchema\", \"true\") \\\n",
    "                    .load(movies_path)\n",
    "\n",
    "ratings_df = spark.read.format(\"csv\") \\\n",
    "                    .option(\"sep\", \"\\t\") \\\n",
    "                    .option(\"header\", \"true\") \\\n",
    "                    .option(\"inferSchema\", \"true\") \\\n",
    "                    .load(ratings_path)\n",
    "\n",
    "movies_df.show(5)\n",
    "ratings_df.show(5)"
   ]
  },
  {
   "cell_type": "code",
   "execution_count": 3,
   "id": "766efd37-b37e-45f0-8ab4-cea6e6954b15",
   "metadata": {},
   "outputs": [
    {
     "name": "stdout",
     "output_type": "stream",
     "text": [
      "root\n",
      " |-- tconst: string (nullable = true)\n",
      " |-- titleType: string (nullable = true)\n",
      " |-- primaryTitle: string (nullable = true)\n",
      " |-- originalTitle: string (nullable = true)\n",
      " |-- isAdult: string (nullable = true)\n",
      " |-- startYear: string (nullable = true)\n",
      " |-- endYear: string (nullable = true)\n",
      " |-- runtimeMinutes: string (nullable = true)\n",
      " |-- genres: string (nullable = true)\n",
      "\n",
      "root\n",
      " |-- tconst: string (nullable = true)\n",
      " |-- averageRating: double (nullable = true)\n",
      " |-- numVotes: integer (nullable = true)\n",
      "\n"
     ]
    }
   ],
   "source": [
    "movies_df.printSchema()\n",
    "ratings_df.printSchema()"
   ]
  },
  {
   "cell_type": "code",
   "execution_count": 4,
   "id": "09ce8a5a-0af3-4222-9359-4fae155078a6",
   "metadata": {},
   "outputs": [
    {
     "name": "stderr",
     "output_type": "stream",
     "text": [
      "[Stage 6:>                                                          (0 + 1) / 1]"
     ]
    },
    {
     "name": "stdout",
     "output_type": "stream",
     "text": [
      "+------+---------+------------+-------------+-------+---------+-------+--------------+------+\n",
      "|tconst|titleType|primaryTitle|originalTitle|isAdult|startYear|endYear|runtimeMinutes|genres|\n",
      "+------+---------+------------+-------------+-------+---------+-------+--------------+------+\n",
      "|     0|        0|           0|            0|      0|        0|      0|             0|   822|\n",
      "+------+---------+------------+-------------+-------+---------+-------+--------------+------+\n",
      "\n"
     ]
    },
    {
     "name": "stderr",
     "output_type": "stream",
     "text": [
      "                                                                                "
     ]
    }
   ],
   "source": [
    "null_counts = movies_df.select(\n",
    "    [sum(col(column).isNull().cast(\"int\")).alias(column) for column in movies_df.columns]\n",
    ")\n",
    "\n",
    "# Show the result\n",
    "null_counts.show()"
   ]
  },
  {
   "cell_type": "code",
   "execution_count": 5,
   "id": "492e65d4-39a8-4851-9ee0-5b5c2e75d585",
   "metadata": {},
   "outputs": [
    {
     "name": "stdout",
     "output_type": "stream",
     "text": [
      "+------+-------------+--------+\n",
      "|tconst|averageRating|numVotes|\n",
      "+------+-------------+--------+\n",
      "|     0|            0|       0|\n",
      "+------+-------------+--------+\n",
      "\n"
     ]
    },
    {
     "name": "stderr",
     "output_type": "stream",
     "text": [
      "                                                                                "
     ]
    }
   ],
   "source": [
    "null_counts = ratings_df.select(\n",
    "    [sum(col(column).isNull().cast(\"int\")).alias(column) for column in ratings_df.columns]\n",
    ")\n",
    "\n",
    "# Show the result\n",
    "null_counts.show()"
   ]
  },
  {
   "cell_type": "code",
   "execution_count": 6,
   "id": "d14939d0-e4cd-48a3-9356-62d81aacc23d",
   "metadata": {},
   "outputs": [],
   "source": [
    "movies_df = movies_df.fillna({\"genres\": \"Unknown\"})"
   ]
  },
  {
   "cell_type": "code",
   "execution_count": 7,
   "id": "d5ab997c-be16-4600-bde8-c9a9b91be0fe",
   "metadata": {},
   "outputs": [
    {
     "name": "stderr",
     "output_type": "stream",
     "text": [
      "[Stage 12:>                                                         (0 + 1) / 1]"
     ]
    },
    {
     "name": "stdout",
     "output_type": "stream",
     "text": [
      "+------+---------+------------+-------------+-------+---------+-------+--------------+------+\n",
      "|tconst|titleType|primaryTitle|originalTitle|isAdult|startYear|endYear|runtimeMinutes|genres|\n",
      "+------+---------+------------+-------------+-------+---------+-------+--------------+------+\n",
      "|     0|        0|           0|            0|      0|        0|      0|             0|     0|\n",
      "+------+---------+------------+-------------+-------+---------+-------+--------------+------+\n",
      "\n"
     ]
    },
    {
     "name": "stderr",
     "output_type": "stream",
     "text": [
      "                                                                                "
     ]
    }
   ],
   "source": [
    "null_counts = movies_df.select(\n",
    "    [sum(col(column).isNull().cast(\"int\")).alias(column) for column in movies_df.columns]\n",
    ")\n",
    "\n",
    "# Show the result\n",
    "null_counts.show()"
   ]
  },
  {
   "cell_type": "code",
   "execution_count": 8,
   "id": "e38507a0-19a2-4742-952e-400fd5c5595e",
   "metadata": {},
   "outputs": [
    {
     "name": "stderr",
     "output_type": "stream",
     "text": [
      "                                                                                "
     ]
    },
    {
     "name": "stdout",
     "output_type": "stream",
     "text": [
      "Total Rows: 11442166\n"
     ]
    },
    {
     "name": "stderr",
     "output_type": "stream",
     "text": [
      "25/02/12 18:30:49 WARN RowBasedKeyValueBatch: Calling spill() on RowBasedKeyValueBatch. Will not spill but return 0.\n",
      "25/02/12 18:30:49 WARN RowBasedKeyValueBatch: Calling spill() on RowBasedKeyValueBatch. Will not spill but return 0.\n",
      "25/02/12 18:30:52 WARN RowBasedKeyValueBatch: Calling spill() on RowBasedKeyValueBatch. Will not spill but return 0.\n",
      "25/02/12 18:30:52 WARN RowBasedKeyValueBatch: Calling spill() on RowBasedKeyValueBatch. Will not spill but return 0.\n",
      "25/02/12 18:30:55 WARN RowBasedKeyValueBatch: Calling spill() on RowBasedKeyValueBatch. Will not spill but return 0.\n",
      "25/02/12 18:30:55 WARN RowBasedKeyValueBatch: Calling spill() on RowBasedKeyValueBatch. Will not spill but return 0.\n",
      "25/02/12 18:30:58 WARN RowBasedKeyValueBatch: Calling spill() on RowBasedKeyValueBatch. Will not spill but return 0.\n",
      "25/02/12 18:30:58 WARN RowBasedKeyValueBatch: Calling spill() on RowBasedKeyValueBatch. Will not spill but return 0.\n",
      "25/02/12 18:31:01 WARN RowBasedKeyValueBatch: Calling spill() on RowBasedKeyValueBatch. Will not spill but return 0.\n",
      "25/02/12 18:31:01 WARN RowBasedKeyValueBatch: Calling spill() on RowBasedKeyValueBatch. Will not spill but return 0.\n",
      "25/02/12 18:31:04 WARN RowBasedKeyValueBatch: Calling spill() on RowBasedKeyValueBatch. Will not spill but return 0.\n",
      "25/02/12 18:31:04 WARN RowBasedKeyValueBatch: Calling spill() on RowBasedKeyValueBatch. Will not spill but return 0.\n",
      "25/02/12 18:31:16 WARN RowBasedKeyValueBatch: Calling spill() on RowBasedKeyValueBatch. Will not spill but return 0.\n",
      "25/02/12 18:31:16 WARN RowBasedKeyValueBatch: Calling spill() on RowBasedKeyValueBatch. Will not spill but return 0.\n",
      "25/02/12 18:31:16 WARN RowBasedKeyValueBatch: Calling spill() on RowBasedKeyValueBatch. Will not spill but return 0.\n",
      "25/02/12 18:31:16 WARN RowBasedKeyValueBatch: Calling spill() on RowBasedKeyValueBatch. Will not spill but return 0.\n",
      "25/02/12 18:31:16 WARN RowBasedKeyValueBatch: Calling spill() on RowBasedKeyValueBatch. Will not spill but return 0.\n",
      "25/02/12 18:31:16 WARN RowBasedKeyValueBatch: Calling spill() on RowBasedKeyValueBatch. Will not spill but return 0.\n",
      "25/02/12 18:31:16 WARN RowBasedKeyValueBatch: Calling spill() on RowBasedKeyValueBatch. Will not spill but return 0.\n",
      "25/02/12 18:31:16 WARN RowBasedKeyValueBatch: Calling spill() on RowBasedKeyValueBatch. Will not spill but return 0.\n",
      "25/02/12 18:31:16 WARN RowBasedKeyValueBatch: Calling spill() on RowBasedKeyValueBatch. Will not spill but return 0.\n",
      "25/02/12 18:31:16 WARN RowBasedKeyValueBatch: Calling spill() on RowBasedKeyValueBatch. Will not spill but return 0.\n",
      "25/02/12 18:31:16 WARN RowBasedKeyValueBatch: Calling spill() on RowBasedKeyValueBatch. Will not spill but return 0.\n",
      "25/02/12 18:31:17 WARN RowBasedKeyValueBatch: Calling spill() on RowBasedKeyValueBatch. Will not spill but return 0.\n",
      "25/02/12 18:31:17 WARN RowBasedKeyValueBatch: Calling spill() on RowBasedKeyValueBatch. Will not spill but return 0.\n",
      "25/02/12 18:31:17 WARN RowBasedKeyValueBatch: Calling spill() on RowBasedKeyValueBatch. Will not spill but return 0.\n",
      "25/02/12 18:31:17 WARN RowBasedKeyValueBatch: Calling spill() on RowBasedKeyValueBatch. Will not spill but return 0.\n",
      "25/02/12 18:31:17 WARN RowBasedKeyValueBatch: Calling spill() on RowBasedKeyValueBatch. Will not spill but return 0.\n",
      "25/02/12 18:31:17 WARN RowBasedKeyValueBatch: Calling spill() on RowBasedKeyValueBatch. Will not spill but return 0.\n",
      "25/02/12 18:31:17 WARN RowBasedKeyValueBatch: Calling spill() on RowBasedKeyValueBatch. Will not spill but return 0.\n",
      "25/02/12 18:31:17 WARN RowBasedKeyValueBatch: Calling spill() on RowBasedKeyValueBatch. Will not spill but return 0.\n",
      "25/02/12 18:31:17 WARN RowBasedKeyValueBatch: Calling spill() on RowBasedKeyValueBatch. Will not spill but return 0.\n",
      "25/02/12 18:31:17 WARN RowBasedKeyValueBatch: Calling spill() on RowBasedKeyValueBatch. Will not spill but return 0.\n",
      "25/02/12 18:31:17 WARN RowBasedKeyValueBatch: Calling spill() on RowBasedKeyValueBatch. Will not spill but return 0.\n",
      "25/02/12 18:31:17 WARN RowBasedKeyValueBatch: Calling spill() on RowBasedKeyValueBatch. Will not spill but return 0.\n",
      "25/02/12 18:31:17 WARN RowBasedKeyValueBatch: Calling spill() on RowBasedKeyValueBatch. Will not spill but return 0.\n",
      "25/02/12 18:31:17 WARN RowBasedKeyValueBatch: Calling spill() on RowBasedKeyValueBatch. Will not spill but return 0.\n",
      "25/02/12 18:31:17 WARN RowBasedKeyValueBatch: Calling spill() on RowBasedKeyValueBatch. Will not spill but return 0.\n",
      "25/02/12 18:31:17 WARN RowBasedKeyValueBatch: Calling spill() on RowBasedKeyValueBatch. Will not spill but return 0.\n",
      "25/02/12 18:31:17 WARN RowBasedKeyValueBatch: Calling spill() on RowBasedKeyValueBatch. Will not spill but return 0.\n",
      "25/02/12 18:31:17 WARN RowBasedKeyValueBatch: Calling spill() on RowBasedKeyValueBatch. Will not spill but return 0.\n",
      "25/02/12 18:31:17 WARN RowBasedKeyValueBatch: Calling spill() on RowBasedKeyValueBatch. Will not spill but return 0.\n",
      "25/02/12 18:31:17 WARN RowBasedKeyValueBatch: Calling spill() on RowBasedKeyValueBatch. Will not spill but return 0.\n",
      "25/02/12 18:31:17 WARN RowBasedKeyValueBatch: Calling spill() on RowBasedKeyValueBatch. Will not spill but return 0.\n",
      "25/02/12 18:31:17 WARN RowBasedKeyValueBatch: Calling spill() on RowBasedKeyValueBatch. Will not spill but return 0.\n",
      "25/02/12 18:31:17 WARN RowBasedKeyValueBatch: Calling spill() on RowBasedKeyValueBatch. Will not spill but return 0.\n",
      "25/02/12 18:31:17 WARN RowBasedKeyValueBatch: Calling spill() on RowBasedKeyValueBatch. Will not spill but return 0.\n",
      "25/02/12 18:31:17 WARN RowBasedKeyValueBatch: Calling spill() on RowBasedKeyValueBatch. Will not spill but return 0.\n",
      "25/02/12 18:31:17 WARN RowBasedKeyValueBatch: Calling spill() on RowBasedKeyValueBatch. Will not spill but return 0.\n",
      "25/02/12 18:31:17 WARN RowBasedKeyValueBatch: Calling spill() on RowBasedKeyValueBatch. Will not spill but return 0.\n",
      "25/02/12 18:31:17 WARN RowBasedKeyValueBatch: Calling spill() on RowBasedKeyValueBatch. Will not spill but return 0.\n",
      "25/02/12 18:31:17 WARN RowBasedKeyValueBatch: Calling spill() on RowBasedKeyValueBatch. Will not spill but return 0.\n",
      "25/02/12 18:31:17 WARN RowBasedKeyValueBatch: Calling spill() on RowBasedKeyValueBatch. Will not spill but return 0.\n",
      "25/02/12 18:31:17 WARN RowBasedKeyValueBatch: Calling spill() on RowBasedKeyValueBatch. Will not spill but return 0.\n",
      "25/02/12 18:31:17 WARN RowBasedKeyValueBatch: Calling spill() on RowBasedKeyValueBatch. Will not spill but return 0.\n",
      "25/02/12 18:31:17 WARN RowBasedKeyValueBatch: Calling spill() on RowBasedKeyValueBatch. Will not spill but return 0.\n",
      "25/02/12 18:31:18 WARN RowBasedKeyValueBatch: Calling spill() on RowBasedKeyValueBatch. Will not spill but return 0.\n",
      "25/02/12 18:31:18 WARN RowBasedKeyValueBatch: Calling spill() on RowBasedKeyValueBatch. Will not spill but return 0.\n",
      "25/02/12 18:31:18 WARN RowBasedKeyValueBatch: Calling spill() on RowBasedKeyValueBatch. Will not spill but return 0.\n",
      "25/02/12 18:31:18 WARN RowBasedKeyValueBatch: Calling spill() on RowBasedKeyValueBatch. Will not spill but return 0.\n",
      "25/02/12 18:31:18 WARN RowBasedKeyValueBatch: Calling spill() on RowBasedKeyValueBatch. Will not spill but return 0.\n",
      "25/02/12 18:31:18 WARN RowBasedKeyValueBatch: Calling spill() on RowBasedKeyValueBatch. Will not spill but return 0.\n",
      "25/02/12 18:31:18 WARN RowBasedKeyValueBatch: Calling spill() on RowBasedKeyValueBatch. Will not spill but return 0.\n",
      "25/02/12 18:31:18 WARN RowBasedKeyValueBatch: Calling spill() on RowBasedKeyValueBatch. Will not spill but return 0.\n",
      "25/02/12 18:31:18 WARN RowBasedKeyValueBatch: Calling spill() on RowBasedKeyValueBatch. Will not spill but return 0.\n",
      "25/02/12 18:31:18 WARN RowBasedKeyValueBatch: Calling spill() on RowBasedKeyValueBatch. Will not spill but return 0.\n",
      "25/02/12 18:31:18 WARN RowBasedKeyValueBatch: Calling spill() on RowBasedKeyValueBatch. Will not spill but return 0.\n",
      "25/02/12 18:31:18 WARN RowBasedKeyValueBatch: Calling spill() on RowBasedKeyValueBatch. Will not spill but return 0.\n",
      "25/02/12 18:31:18 WARN RowBasedKeyValueBatch: Calling spill() on RowBasedKeyValueBatch. Will not spill but return 0.\n",
      "25/02/12 18:31:18 WARN RowBasedKeyValueBatch: Calling spill() on RowBasedKeyValueBatch. Will not spill but return 0.\n",
      "25/02/12 18:31:18 WARN RowBasedKeyValueBatch: Calling spill() on RowBasedKeyValueBatch. Will not spill but return 0.\n",
      "25/02/12 18:31:18 WARN RowBasedKeyValueBatch: Calling spill() on RowBasedKeyValueBatch. Will not spill but return 0.\n",
      "25/02/12 18:31:18 WARN RowBasedKeyValueBatch: Calling spill() on RowBasedKeyValueBatch. Will not spill but return 0.\n",
      "25/02/12 18:31:18 WARN RowBasedKeyValueBatch: Calling spill() on RowBasedKeyValueBatch. Will not spill but return 0.\n",
      "25/02/12 18:31:18 WARN RowBasedKeyValueBatch: Calling spill() on RowBasedKeyValueBatch. Will not spill but return 0.\n",
      "25/02/12 18:31:18 WARN RowBasedKeyValueBatch: Calling spill() on RowBasedKeyValueBatch. Will not spill but return 0.\n",
      "25/02/12 18:31:18 WARN RowBasedKeyValueBatch: Calling spill() on RowBasedKeyValueBatch. Will not spill but return 0.\n",
      "25/02/12 18:31:18 WARN RowBasedKeyValueBatch: Calling spill() on RowBasedKeyValueBatch. Will not spill but return 0.\n",
      "25/02/12 18:31:19 WARN RowBasedKeyValueBatch: Calling spill() on RowBasedKeyValueBatch. Will not spill but return 0.\n",
      "25/02/12 18:31:19 WARN RowBasedKeyValueBatch: Calling spill() on RowBasedKeyValueBatch. Will not spill but return 0.\n",
      "25/02/12 18:31:19 WARN RowBasedKeyValueBatch: Calling spill() on RowBasedKeyValueBatch. Will not spill but return 0.\n",
      "25/02/12 18:31:19 WARN RowBasedKeyValueBatch: Calling spill() on RowBasedKeyValueBatch. Will not spill but return 0.\n",
      "[Stage 20:============================================>           (12 + 3) / 15]"
     ]
    },
    {
     "name": "stdout",
     "output_type": "stream",
     "text": [
      "Unique Rows:11442166\n"
     ]
    },
    {
     "name": "stderr",
     "output_type": "stream",
     "text": [
      "                                                                                "
     ]
    }
   ],
   "source": [
    "unique_movies_df = movies_df.dropDuplicates()\n",
    "print(f\"Total Rows: {movies_df.count()}\")\n",
    "print(f\"Unique Rows:{unique_movies_df.count()}\")"
   ]
  },
  {
   "cell_type": "code",
   "execution_count": 9,
   "id": "f247c214-5161-4672-880c-134656931f4e",
   "metadata": {},
   "outputs": [
    {
     "name": "stdout",
     "output_type": "stream",
     "text": [
      "Total Rows: 1532242\n"
     ]
    },
    {
     "name": "stderr",
     "output_type": "stream",
     "text": [
      "[Stage 27:>                                                         (0 + 1) / 1]"
     ]
    },
    {
     "name": "stdout",
     "output_type": "stream",
     "text": [
      "Unique Rows:1532242\n"
     ]
    },
    {
     "name": "stderr",
     "output_type": "stream",
     "text": [
      "                                                                                "
     ]
    }
   ],
   "source": [
    "unique_ratings_df = ratings_df.dropDuplicates()\n",
    "print(f\"Total Rows: {ratings_df.count()}\")\n",
    "print(f\"Unique Rows:{unique_ratings_df.count()}\")"
   ]
  },
  {
   "cell_type": "code",
   "execution_count": 10,
   "id": "3cd4815a-4016-40d7-af41-9eb8135766d7",
   "metadata": {},
   "outputs": [
    {
     "name": "stdout",
     "output_type": "stream",
     "text": [
      "root\n",
      " |-- tconst: string (nullable = true)\n",
      " |-- titleType: string (nullable = true)\n",
      " |-- primaryTitle: string (nullable = true)\n",
      " |-- originalTitle: string (nullable = true)\n",
      " |-- isAdult: string (nullable = true)\n",
      " |-- startYear: string (nullable = true)\n",
      " |-- endYear: string (nullable = true)\n",
      " |-- runtimeMinutes: string (nullable = true)\n",
      " |-- genres: string (nullable = false)\n",
      "\n",
      "root\n",
      " |-- tconst: string (nullable = true)\n",
      " |-- averageRating: double (nullable = true)\n",
      " |-- numVotes: integer (nullable = true)\n",
      "\n"
     ]
    }
   ],
   "source": [
    "movies_df.printSchema()\n",
    "ratings_df.printSchema()"
   ]
  },
  {
   "cell_type": "code",
   "execution_count": 11,
   "id": "25f5be7d-98f0-444c-9829-655b18bb2e9a",
   "metadata": {},
   "outputs": [
    {
     "name": "stdout",
     "output_type": "stream",
     "text": [
      "+---------+---------+--------------------+--------------------+-------+---------+-------+--------------+--------------------+\n",
      "|   tconst|titleType|        primaryTitle|       originalTitle|isAdult|startYear|endYear|runtimeMinutes|              genres|\n",
      "+---------+---------+--------------------+--------------------+-------+---------+-------+--------------+--------------------+\n",
      "|tt0000001|    short|          Carmencita|          Carmencita|      0|     1894|     \\N|             1|   Documentary,Short|\n",
      "|tt0000002|    short|Le clown et ses c...|Le clown et ses c...|      0|     1892|     \\N|             5|     Animation,Short|\n",
      "|tt0000003|    short|        Poor Pierrot|      Pauvre Pierrot|      0|     1892|     \\N|             5|Animation,Comedy,...|\n",
      "|tt0000004|    short|         Un bon bock|         Un bon bock|      0|     1892|     \\N|            12|     Animation,Short|\n",
      "|tt0000005|    short|    Blacksmith Scene|    Blacksmith Scene|      0|     1893|     \\N|             1|               Short|\n",
      "+---------+---------+--------------------+--------------------+-------+---------+-------+--------------+--------------------+\n",
      "only showing top 5 rows\n",
      "\n",
      "+---------+-------------+--------+\n",
      "|   tconst|averageRating|numVotes|\n",
      "+---------+-------------+--------+\n",
      "|tt0000001|          5.7|    2129|\n",
      "|tt0000002|          5.6|     288|\n",
      "|tt0000003|          6.4|    2165|\n",
      "|tt0000004|          5.3|     184|\n",
      "|tt0000005|          6.2|    2892|\n",
      "+---------+-------------+--------+\n",
      "only showing top 5 rows\n",
      "\n"
     ]
    }
   ],
   "source": [
    "movies_df.show(5)\n",
    "ratings_df.show(5)"
   ]
  },
  {
   "cell_type": "code",
   "execution_count": 12,
   "id": "ecfa271c-7f7a-48ac-8fa1-f3240270634f",
   "metadata": {},
   "outputs": [
    {
     "name": "stdout",
     "output_type": "stream",
     "text": [
      "+-------+---------+-------+--------------+\n",
      "|isAdult|startYear|endYear|runtimeMinutes|\n",
      "+-------+---------+-------+--------------+\n",
      "|      0|     1894|     \\N|             1|\n",
      "|      0|     1892|     \\N|             5|\n",
      "|      0|     1892|     \\N|             5|\n",
      "|      0|     1892|     \\N|            12|\n",
      "|      0|     1893|     \\N|             1|\n",
      "|      0|     1894|     \\N|             1|\n",
      "|      0|     1894|     \\N|             1|\n",
      "|      0|     1894|     \\N|             1|\n",
      "|      0|     1894|     \\N|            45|\n",
      "|      0|     1895|     \\N|             1|\n",
      "+-------+---------+-------+--------------+\n",
      "only showing top 10 rows\n",
      "\n"
     ]
    }
   ],
   "source": [
    "movies_df.select(\"isAdult\",\"startYear\",\"endYear\",\"runtimeMinutes\").show(10)"
   ]
  },
  {
   "cell_type": "code",
   "execution_count": 13,
   "id": "7e6adf69-37c1-4d3a-9b44-f9077d2b0d24",
   "metadata": {},
   "outputs": [
    {
     "name": "stdout",
     "output_type": "stream",
     "text": [
      "root\n",
      " |-- tconst: string (nullable = true)\n",
      " |-- titleType: string (nullable = true)\n",
      " |-- primaryTitle: string (nullable = true)\n",
      " |-- originalTitle: string (nullable = true)\n",
      " |-- isAdult: boolean (nullable = true)\n",
      " |-- startYear: integer (nullable = true)\n",
      " |-- endYear: integer (nullable = true)\n",
      " |-- runtimeMinutes: integer (nullable = true)\n",
      " |-- genres: string (nullable = false)\n",
      "\n",
      "+---------+---------+--------------------+--------------------+-------+---------+-------+--------------+--------------------+\n",
      "|   tconst|titleType|        primaryTitle|       originalTitle|isAdult|startYear|endYear|runtimeMinutes|              genres|\n",
      "+---------+---------+--------------------+--------------------+-------+---------+-------+--------------+--------------------+\n",
      "|tt0000001|    short|          Carmencita|          Carmencita|  false|     1894|   NULL|             1|   Documentary,Short|\n",
      "|tt0000002|    short|Le clown et ses c...|Le clown et ses c...|  false|     1892|   NULL|             5|     Animation,Short|\n",
      "|tt0000003|    short|        Poor Pierrot|      Pauvre Pierrot|  false|     1892|   NULL|             5|Animation,Comedy,...|\n",
      "|tt0000004|    short|         Un bon bock|         Un bon bock|  false|     1892|   NULL|            12|     Animation,Short|\n",
      "|tt0000005|    short|    Blacksmith Scene|    Blacksmith Scene|  false|     1893|   NULL|             1|               Short|\n",
      "|tt0000006|    short|   Chinese Opium Den|   Chinese Opium Den|  false|     1894|   NULL|             1|               Short|\n",
      "|tt0000007|    short|Corbett and Court...|Corbett and Court...|  false|     1894|   NULL|             1|         Short,Sport|\n",
      "|tt0000008|    short|Edison Kinetoscop...|Edison Kinetoscop...|  false|     1894|   NULL|             1|   Documentary,Short|\n",
      "|tt0000009|    movie|          Miss Jerry|          Miss Jerry|  false|     1894|   NULL|            45|             Romance|\n",
      "|tt0000010|    short| Leaving the Factory|La sortie de l'us...|  false|     1895|   NULL|             1|   Documentary,Short|\n",
      "+---------+---------+--------------------+--------------------+-------+---------+-------+--------------+--------------------+\n",
      "only showing top 10 rows\n",
      "\n"
     ]
    }
   ],
   "source": [
    "movies_df = movies_df.withColumn(\"endYear\",\n",
    "                                 when(movies_df[\"endYear\"] == \"\\\\N\", None).otherwise(movies_df[\"endYear\"]))\n",
    "\n",
    "movies_df = movies_df.withColumn(\"isAdult\", movies_df['isAdult'].cast(\"boolean\")) \\\n",
    "                     .withColumn(\"startYear\", movies_df['startYear'].cast(\"int\")) \\\n",
    "                     .withColumn(\"endYear\", movies_df['endYear'].cast(\"int\")) \\\n",
    "                     .withColumn(\"runtimeMinutes\", movies_df['runtimeMinutes'].cast(\"int\"))\n",
    "\n",
    "movies_df.printSchema()\n",
    "movies_df.show(10)"
   ]
  },
  {
   "cell_type": "code",
   "execution_count": 14,
   "id": "c0bdf335-ef2c-4467-92ae-f17ab4071900",
   "metadata": {},
   "outputs": [
    {
     "name": "stderr",
     "output_type": "stream",
     "text": [
      "[Stage 37:>                                                         (0 + 1) / 1]"
     ]
    },
    {
     "name": "stdout",
     "output_type": "stream",
     "text": [
      "+----------+------------+--------------------+--------------------+-------+---------+-------+--------------+--------------------+\n",
      "|    tconst|   titleType|        primaryTitle|       originalTitle|isAdult|startYear|endYear|runtimeMinutes|              genres|\n",
      "+----------+------------+--------------------+--------------------+-------+---------+-------+--------------+--------------------+\n",
      "|tt23957098|    tvSeries|           Khud Teri|           Khud Teri|  false|     2022|   2030|          NULL|             Romance|\n",
      "|tt33310042|tvMiniSeries|French Alps 2030:...|French Alps 2030:...|  false|     2030|   2030|          NULL|               Sport|\n",
      "|tt30761334|tvMiniSeries|             OstyFun|          Les Mythos|  false|     2019|   2029|             3|              Comedy|\n",
      "|tt32027577|    tvSeries|         Larry Movie|         Larry Movie|  false|     2023|   2029|          NULL|              Family|\n",
      "|tt33333353|    tvSeries|         Odd Squad 2|         Odd Squad 2|  false|     2024|   2029|          NULL|              Family|\n",
      "|tt35303922|    tvSeries|         Batman Cave|         Batman Cave|  false|     2029|   2029|          NULL|                  \\N|\n",
      "|tt14127838|tvMiniSeries|             Journey|             Journey|  false|     2021|   2028|            55|        Comedy,Drama|\n",
      "|tt32863287|tvMiniSeries|LA 2028: Games of...|Los Angeles 2028:...|  false|     2028|   2028|          NULL|               Sport|\n",
      "|tt32863288|tvMiniSeries|2028 Summer Paral...|Los Angeles 2028:...|  false|     2028|   2028|          NULL|               Sport|\n",
      "|tt32918634|tvMiniSeries|2028 UEFA Europea...|      UEFA Euro 2028|  false|     2028|   2028|          NULL|               Sport|\n",
      "|tt32981865|tvMiniSeries|2028 Republican N...|2028 Republican N...|  false|     2028|   2028|          NULL|                News|\n",
      "|tt35365800|    tvSeries|Paige's Boutique:...|Paige's Boutique:...|  false|     2025|   2028|            22|           Animation|\n",
      "|tt35528344|    tvSeries|Die Alpenrose met...|Die Alpenrose met...|  false|     2018|   2028|          NULL|           Adventure|\n",
      "|tt35670006|    tvSeries|  It's Paige Prater!|  It's Paige Prater!|  false|     2025|   2028|            22|           Animation|\n",
      "|tt35681712|    tvSeries|Paige Crystal: Fr...|Paige Crystal: Fr...|  false|     2026|   2028|            12|           Animation|\n",
      "|tt21255264|tvMiniSeries|       Kaos Comedies|       Kaos Comedies|  false|     2022|   2027|             3|              Comedy|\n",
      "|tt30440611|    tvSeries|Boomerang Bro Get...|Boomerang Bro Get...|  false|     2024|   2027|          NULL|           Animation|\n",
      "|tt32021255|    tvSeries|Living with Siblings|Living with Siblings|  false|     2020|   2027|          NULL|                  \\N|\n",
      "|tt32915474|tvMiniSeries|2027 FIFA Women's...|2027 FIFA Women's...|  false|     2027|   2027|          NULL|               Sport|\n",
      "|tt33044384|    tvSeries|    Vlilan Arc Movie|    Vlilan Arc Movie|  false|     2025|   2027|          NULL|           Animation|\n",
      "|tt34870917|    tvSeries|        Paige Prater|        Paige Prater|  false|     2025|   2027|            12|   Animation,Fantasy|\n",
      "|tt35664429|    tvSeries|Paige Prater's Ro...|Paige Prater's Ro...|  false|     2025|   2027|            12|           Animation|\n",
      "| tt7358768|    tvSeries|               The Y|               The Y|  false|     2017|   2027|             6|     Sci-Fi,Thriller|\n",
      "| tt0106140|    tvSeries|  Sonic the Hedgehog|  Sonic the Hedgehog|  false|     1993|   2026|            22|Action,Adventure,...|\n",
      "| tt0118375|    tvSeries|    King of the Hill|    King of the Hill|  false|     1997|   2026|            30|Animation,Comedy,...|\n",
      "|tt10585548|    tvSeries|  Edjucatin' Charlie|  Edjucatin' Charlie|  false|     2020|   2026|            30|              Comedy|\n",
      "|tt13210838|    tvSeries|       The Gentlemen|       The Gentlemen|  false|     2024|   2026|            50| Action,Comedy,Crime|\n",
      "|tt15655872|tvMiniSeries|  Coppola, the Agent|Coppola, el repre...|  false|     2024|   2026|          NULL|     Biography,Sport|\n",
      "|tt21634562|tvMiniSeries|          Remi Jones|          Remi Jones|  false|     2019|   2026|            60|           Talk-Show|\n",
      "|tt21945312|    tvSeries|Motor Mille og Bø...|Motor Mille og Bø...|  false|     2015|   2026|          NULL|           Adventure|\n",
      "| tt2788316|    tvSeries|              Shōgun|              Shogun|  false|     2024|   2026|            60|Adventure,Drama,H...|\n",
      "|tt28484516|    tvSeries|    2026 Asian Games|    2026 Asian Games|  false|     2026|   2026|          NULL|               Sport|\n",
      "|tt30778105|    tvSeries|Sega: the predict...|Sega: the predict...|  false|     2025|   2026|            20|Action,Animation,...|\n",
      "|tt31040454|    tvSeries|DRIGGU por Qualqu...|DRIGGU por Qualqu...|  false|     2024|   2026|          NULL|             History|\n",
      "|tt31242943|tvMiniSeries|           Broughton|           Broughton|  false|     2024|   2026|            20|             Fantasy|\n",
      "|tt32095527|    tvSeries|Alex Mystery Play...|Alex Mystery Play...|  false|     2024|   2026|          NULL|                  \\N|\n",
      "|tt32333126|    tvSeries|        Time Trouble|        Time Trouble|  false|     2022|   2026|          NULL|              Horror|\n",
      "|tt32369560|    tvSeries|Community Theater...|Community Theater...|  false|     2023|   2026|          NULL|              Comedy|\n",
      "|tt32863289|tvMiniSeries|Milano Cortina 20...|Milano Cortina 20...|  false|     2026|   2026|          NULL|               Sport|\n",
      "|tt32863290|tvMiniSeries|Milano Cortina 20...|Milano Cortina 20...|  false|     2026|   2026|          NULL|               Sport|\n",
      "|tt32863295|tvMiniSeries|Dakar 2026: Games...|Dakar 2026: Games...|  false|     2026|   2026|          NULL|               Sport|\n",
      "|tt32915471|tvMiniSeries| 2026 FIFA World Cup| 2026 FIFA World Cup|  false|     2026|   2026|          NULL|               Sport|\n",
      "|tt33321901|tvMiniSeries|Le bateau de l'enfer|Le bateau de l'enfer|  false|     2016|   2026|          NULL|         Documentary|\n",
      "|tt34387798|    tvSeries|2025-2026 UEFA Ch...|2025-2026 UEFA Ch...|  false|     2025|   2026|          NULL|               Sport|\n",
      "|tt34747657|    tvSeries|2025-2026 Premier...|2025-2026 Premier...|  false|     2025|   2026|          NULL|               Sport|\n",
      "|tt34747709|    tvSeries|2025-2026 Bundesliga|2025-2026 Bundesliga|  false|     2025|   2026|          NULL|               Sport|\n",
      "|tt34852961|    tvSeries|You and Idol Precure|Kimi to Idol Precure|  false|     2025|   2026|            23|Action,Adventure,...|\n",
      "|tt35487688|tvMiniSeries|A Trini Christmas...|A Trini Christmas...|  false|     2026|   2026|            10|                  \\N|\n",
      "|tt35493928|    tvSeries|2025-2026 UEFA Eu...|2025-2026 UEFA Eu...|  false|     2025|   2026|          NULL|               Sport|\n",
      "|tt35518974|tvMiniSeries|Substitute Bride ...|Substitute Bride ...|  false|     2025|   2026|          NULL|Drama,Family,Romance|\n",
      "+----------+------------+--------------------+--------------------+-------+---------+-------+--------------+--------------------+\n",
      "only showing top 50 rows\n",
      "\n"
     ]
    },
    {
     "name": "stderr",
     "output_type": "stream",
     "text": [
      "                                                                                "
     ]
    }
   ],
   "source": [
    "movies_df.orderBy(desc(\"endYear\")).show(50)"
   ]
  },
  {
   "cell_type": "code",
   "execution_count": 15,
   "id": "339a8ad9-4b02-477d-a779-0c2114146df0",
   "metadata": {},
   "outputs": [
    {
     "name": "stderr",
     "output_type": "stream",
     "text": [
      "                                                                                "
     ]
    },
    {
     "name": "stdout",
     "output_type": "stream",
     "text": [
      "+--------------+--------------+------------+------------+\n",
      "|min(startYear)|max(startYear)|min(endYear)|max(endYear)|\n",
      "+--------------+--------------+------------+------------+\n",
      "|          1874|          2031|           3|        2030|\n",
      "+--------------+--------------+------------+------------+\n",
      "\n"
     ]
    },
    {
     "name": "stderr",
     "output_type": "stream",
     "text": [
      "[Stage 41:>                                                         (0 + 1) / 1]"
     ]
    },
    {
     "name": "stdout",
     "output_type": "stream",
     "text": [
      "+------------+-------------+-------------+\n",
      "|   titleType|min_startYear|max_startYear|\n",
      "+------------+-------------+-------------+\n",
      "|    tvSeries|         1927|         2029|\n",
      "|tvMiniSeries|         1928|         2030|\n",
      "|     tvMovie|         1928|         2026|\n",
      "|     tvPilot|         1991|         1991|\n",
      "|   tvEpisode|         1928|         2030|\n",
      "|       movie|         1894|         2031|\n",
      "|   tvSpecial|         1931|         2026|\n",
      "|       video|         1923|         2026|\n",
      "|   videoGame|         1958|         2026|\n",
      "|     tvShort|         1929|         2025|\n",
      "|       short|         1874|         2030|\n",
      "+------------+-------------+-------------+\n",
      "\n"
     ]
    },
    {
     "name": "stderr",
     "output_type": "stream",
     "text": [
      "                                                                                "
     ]
    }
   ],
   "source": [
    "movies_df.selectExpr(\"min(startYear)\", \"max(startYear)\", \"min(endYear)\", \"max(endYear)\").show()\n",
    "\n",
    "movies_df.groupBy(\"titleType\").agg(min(\"startYear\").alias(\"min_startYear\"),\n",
    "                                   max(\"startYear\").alias(\"max_startYear\"),\n",
    "                                  ).show()"
   ]
  },
  {
   "cell_type": "code",
   "execution_count": 16,
   "id": "49a30b01-b88c-4ba8-bef5-a525f512f7f3",
   "metadata": {},
   "outputs": [
    {
     "name": "stderr",
     "output_type": "stream",
     "text": [
      "[Stage 44:>                                                         (0 + 1) / 1]"
     ]
    },
    {
     "name": "stdout",
     "output_type": "stream",
     "text": [
      "+------------+-----------+-----------+------------------+\n",
      "|   titleType|min_runtime|max_runtime|       avg_runtime|\n",
      "+------------+-----------+-----------+------------------+\n",
      "|    tvSeries|          1|    3692080| 81.34235420792555|\n",
      "|tvMiniSeries|          1|      37440| 74.88083329286651|\n",
      "|     tvMovie|          1|       3720| 71.79331491011357|\n",
      "|     tvPilot|       NULL|       NULL|              NULL|\n",
      "|   tvEpisode|          1|       6000|38.306058178051806|\n",
      "|       movie|          1|      59460| 89.70951883833634|\n",
      "|   tvSpecial|          1|      17280| 86.49027519974175|\n",
      "|       video|          1|      35791| 69.86336429906812|\n",
      "|   videoGame|          1|       1800|105.54875283446712|\n",
      "|     tvShort|          1|        120|12.139262472885033|\n",
      "|       short|          0|        360|13.091488564489234|\n",
      "+------------+-----------+-----------+------------------+\n",
      "\n"
     ]
    },
    {
     "name": "stderr",
     "output_type": "stream",
     "text": [
      "                                                                                "
     ]
    }
   ],
   "source": [
    "movies_df.groupBy(\"titleType\").agg(min(\"runtimeMinutes\").alias(\"min_runtime\"),\n",
    "                                   max(\"runtimeMinutes\").alias(\"max_runtime\"),\n",
    "                                   avg(\"runtimeMinutes\").alias(\"avg_runtime\")\n",
    "                                  ).show()"
   ]
  },
  {
   "cell_type": "code",
   "execution_count": 17,
   "id": "4500f1bd-4138-4b81-ba73-bacd3eecd263",
   "metadata": {},
   "outputs": [
    {
     "name": "stderr",
     "output_type": "stream",
     "text": [
      "[Stage 47:>                                                         (0 + 1) / 1]"
     ]
    },
    {
     "name": "stdout",
     "output_type": "stream",
     "text": [
      "+------------+-------------+-------------+\n",
      "|   titleType|min_startYear|max_startYear|\n",
      "+------------+-------------+-------------+\n",
      "|    tvSeries|         1927|         2029|\n",
      "|tvMiniSeries|         1928|         2030|\n",
      "|     tvMovie|         1928|         2025|\n",
      "|   tvEpisode|         1928|         2030|\n",
      "|       movie|         1894|         2025|\n",
      "|   tvSpecial|         1931|         2026|\n",
      "|       video|         1923|         2025|\n",
      "|   videoGame|         1958|         2025|\n",
      "|     tvShort|         1929|         2025|\n",
      "|       short|         1874|         2025|\n",
      "+------------+-------------+-------------+\n",
      "\n"
     ]
    },
    {
     "name": "stderr",
     "output_type": "stream",
     "text": [
      "                                                                                "
     ]
    }
   ],
   "source": [
    "# Intialize the filtered_df = movies_df, in this case we can have copy of the Dataframe to filter.\n",
    "filtered_df = movies_df\n",
    "\n",
    "conditions = when((col('titleType') == 'tvMovie') & (col('startYear') <= 2025), True) \\\n",
    "                .when((col('titleType') == 'movie') & (col('startYear') <= 2025), True) \\\n",
    "                .when((col('titleType') == 'video') & (col('startYear') <= 2025), True) \\\n",
    "                .when((col('titleType') == 'videoGame') & (col('startYear') <= 2025), True) \\\n",
    "                .when((col('titleType') == 'tvShort') & (col('startYear') <= 2025), True) \\\n",
    "                .when((col('titleType') == 'short') & (col('startYear') <= 2025), True) \\\n",
    "                .when((col('titleType') == 'tvSeries') & (col('startYear') <= 2030), True) \\\n",
    "                .when((col('titleType') == 'tvMiniSeries') & (col('startYear') <= 2030), True) \\\n",
    "                .when((col('titleType') == 'tvEpisode') & (col('startYear') <= 2030), True) \\\n",
    "                .when((col('titleType') == 'tvSpecial') & (col('startYear') <= 2030), True) \\\n",
    "                .otherwise(False)\n",
    "\n",
    "filtered_df = filtered_df.withColumn(\"meet_conditions\", conditions) \\\n",
    "                        .filter(col(\"meet_conditions\") == True) \\\n",
    "                        .drop(\"meet_conditions\")\n",
    "\n",
    "filtered_df.groupBy(\"titleType\").agg(min(\"startYear\").alias(\"min_startYear\"),\n",
    "                                   max(\"startYear\").alias(\"max_startYear\"),\n",
    "                                  ).show()"
   ]
  },
  {
   "cell_type": "code",
   "execution_count": 18,
   "id": "54ae228b-e887-4ced-8b18-e5663330b031",
   "metadata": {},
   "outputs": [
    {
     "name": "stderr",
     "output_type": "stream",
     "text": [
      "[Stage 50:>                                                         (0 + 1) / 1]"
     ]
    },
    {
     "name": "stdout",
     "output_type": "stream",
     "text": [
      "+------------+-----------+-----------+------------------+\n",
      "|   titleType|min_runtime|max_runtime|       avg_runtime|\n",
      "+------------+-----------+-----------+------------------+\n",
      "|    tvSeries|          1|       1500| 44.93794798080845|\n",
      "|tvMiniSeries|          1|       1080| 73.10273502597785|\n",
      "|     tvMovie|          1|        498| 71.46928069969016|\n",
      "|   tvEpisode|          1|        300| 38.02999565004622|\n",
      "|       movie|          1|        500| 88.90425103069171|\n",
      "|   tvSpecial|          1|       1500| 83.93787915554478|\n",
      "|       video|          1|       1445| 69.08648664366301|\n",
      "|   videoGame|          1|       1495|100.70138888888889|\n",
      "|     tvShort|          1|        120|12.146563047285465|\n",
      "|       short|          0|         60|13.054938441485389|\n",
      "+------------+-----------+-----------+------------------+\n",
      "\n"
     ]
    },
    {
     "name": "stderr",
     "output_type": "stream",
     "text": [
      "                                                                                "
     ]
    }
   ],
   "source": [
    "conditions = when((col('titleType') == 'tvSeries') & (col('runtimeMinutes') <= 1500), True) \\\n",
    "              .when((col('titleType') == 'tvMiniSeries') & (col('runtimeMinutes') <= 1500), True) \\\n",
    "              .when((col('titleType') == 'tvMovie') & (col('runtimeMinutes') <= 500), True) \\\n",
    "              .when((col('titleType') == 'tvEpisode') & (col('runtimeMinutes') <= 300), True) \\\n",
    "              .when((col('titleType') == 'movie') & (col('runtimeMinutes') <= 500), True) \\\n",
    "              .when((col('titleType') == 'tvSpecial') & (col('runtimeMinutes') <= 1500), True) \\\n",
    "              .when((col('titleType') == 'video') & (col('runtimeMinutes') <= 1500), True) \\\n",
    "              .when((col('titleType') == 'videoGame') & (col('runtimeMinutes') <= 1500), True) \\\n",
    "              .when((col('titleType') == 'tvShort') & (col('runtimeMinutes') <= 200), True) \\\n",
    "              .when((col('titleType') == 'short') & (col('runtimeMinutes') <= 60), True) \\\n",
    "\n",
    "filtered_df = filtered_df.withColumn(\"meet_conditions\", conditions) \\\n",
    "                     .filter(col(\"meet_conditions\") == True) \\\n",
    "                     .drop(\"meet_conditions\")\n",
    "\n",
    "filtered_df.groupBy(\"titleType\").agg(min(\"runtimeMinutes\").alias(\"min_runtime\"),\n",
    "                                   max(\"runtimeMinutes\").alias(\"max_runtime\"),\n",
    "                                   avg(\"runtimeMinutes\").alias(\"avg_runtime\")\n",
    "                                  ).show()"
   ]
  },
  {
   "cell_type": "code",
   "execution_count": 19,
   "id": "7c4cec37-a3f4-42fe-9414-13caf48abce6",
   "metadata": {},
   "outputs": [
    {
     "name": "stderr",
     "output_type": "stream",
     "text": [
      "                                                                                "
     ]
    },
    {
     "name": "stdout",
     "output_type": "stream",
     "text": [
      "+------------+-----------+-----------+------------------+\n",
      "|   titleType|min_runtime|max_runtime|       avg_runtime|\n",
      "+------------+-----------+-----------+------------------+\n",
      "|    tvSeries|          1|       1500| 44.93794798080845|\n",
      "|tvMiniSeries|          1|       1080| 73.10273502597785|\n",
      "|     tvMovie|          1|        498| 71.46928069969016|\n",
      "|   tvEpisode|          1|        300| 38.02999565004622|\n",
      "|       movie|          1|        500| 88.90425103069171|\n",
      "|   tvSpecial|          1|       1500| 83.93787915554478|\n",
      "|       video|          1|       1445| 69.08648664366301|\n",
      "|   videoGame|          1|       1495|100.70138888888889|\n",
      "|     tvShort|          1|        120|12.146563047285465|\n",
      "|       short|          0|         60|13.054938441485389|\n",
      "+------------+-----------+-----------+------------------+\n",
      "\n"
     ]
    },
    {
     "name": "stderr",
     "output_type": "stream",
     "text": [
      "[Stage 56:>                                                         (0 + 1) / 1]"
     ]
    },
    {
     "name": "stdout",
     "output_type": "stream",
     "text": [
      "+------------+-------------+-------------+\n",
      "|   titleType|min_startYear|max_startYear|\n",
      "+------------+-------------+-------------+\n",
      "|    tvSeries|         1930|         2026|\n",
      "|tvMiniSeries|         1936|         2026|\n",
      "|     tvMovie|         1928|         2025|\n",
      "|   tvEpisode|         1931|         2027|\n",
      "|       movie|         1894|         2025|\n",
      "|   tvSpecial|         1931|         2025|\n",
      "|       video|         1930|         2025|\n",
      "|   videoGame|         1975|         2025|\n",
      "|     tvShort|         1936|         2025|\n",
      "|       short|         1874|         2025|\n",
      "+------------+-------------+-------------+\n",
      "\n"
     ]
    },
    {
     "name": "stderr",
     "output_type": "stream",
     "text": [
      "                                                                                "
     ]
    }
   ],
   "source": [
    "filtered_df.groupBy(\"titleType\").agg(min(\"runtimeMinutes\").alias(\"min_runtime\"),\n",
    "                                   max(\"runtimeMinutes\").alias(\"max_runtime\"),\n",
    "                                   avg(\"runtimeMinutes\").alias(\"avg_runtime\")\n",
    "                                  ).show()\n",
    "\n",
    "filtered_df.groupBy(\"titleType\").agg(min(\"startYear\").alias(\"min_startYear\"),\n",
    "                                   max(\"startYear\").alias(\"max_startYear\"),\n",
    "                                  ).show()"
   ]
  },
  {
   "cell_type": "code",
   "execution_count": 20,
   "id": "4b82fbf1-46e8-44db-bf6a-b2f5f6d416b0",
   "metadata": {},
   "outputs": [
    {
     "name": "stdout",
     "output_type": "stream",
     "text": [
      "Before Filtering:\n"
     ]
    },
    {
     "name": "stderr",
     "output_type": "stream",
     "text": [
      "                                                                                "
     ]
    },
    {
     "name": "stdout",
     "output_type": "stream",
     "text": [
      "Total number of records: 11442166\n"
     ]
    },
    {
     "name": "stderr",
     "output_type": "stream",
     "text": [
      "                                                                                "
     ]
    },
    {
     "name": "stdout",
     "output_type": "stream",
     "text": [
      "+------------+-------+\n",
      "|   titleType|  count|\n",
      "+------------+-------+\n",
      "|    tvSeries| 276650|\n",
      "|tvMiniSeries|  59556|\n",
      "|     tvMovie| 149728|\n",
      "|     tvPilot|      1|\n",
      "|   tvEpisode|8797679|\n",
      "|       movie| 705880|\n",
      "|   tvSpecial|  51332|\n",
      "|       video| 305529|\n",
      "|   videoGame|  41927|\n",
      "|     tvShort|  10541|\n",
      "|       short|1043343|\n",
      "+------------+-------+\n",
      "\n",
      "After Filtering:\n"
     ]
    },
    {
     "name": "stderr",
     "output_type": "stream",
     "text": [
      "                                                                                "
     ]
    },
    {
     "name": "stdout",
     "output_type": "stream",
     "text": [
      "Total number of records: 3403012\n"
     ]
    },
    {
     "name": "stderr",
     "output_type": "stream",
     "text": [
      "[Stage 68:>                                                         (0 + 1) / 1]"
     ]
    },
    {
     "name": "stdout",
     "output_type": "stream",
     "text": [
      "+------------+-------+\n",
      "|   titleType|  count|\n",
      "+------------+-------+\n",
      "|    tvSeries| 102962|\n",
      "|tvMiniSeries|  20402|\n",
      "|     tvMovie| 101988|\n",
      "|   tvEpisode|1839100|\n",
      "|       movie| 436600|\n",
      "|   tvSpecial|  24726|\n",
      "|       video| 206344|\n",
      "|   videoGame|    432|\n",
      "|     tvShort|   9136|\n",
      "|       short| 661322|\n",
      "+------------+-------+\n",
      "\n"
     ]
    },
    {
     "name": "stderr",
     "output_type": "stream",
     "text": [
      "                                                                                "
     ]
    }
   ],
   "source": [
    "print(\"Before Filtering:\")\n",
    "print(f\"Total number of records: {movies_df.count()}\")\n",
    "movies_df.select(\"titleType\").groupby(\"titleType\").count().show()\n",
    "\n",
    "print(\"After Filtering:\")\n",
    "print(f\"Total number of records: {filtered_df.count()}\")\n",
    "filtered_df.select(\"titleType\").groupby(\"titleType\").count().show()"
   ]
  },
  {
   "cell_type": "code",
   "execution_count": 21,
   "id": "a833b619-f427-431e-9c98-dba9bfce66de",
   "metadata": {},
   "outputs": [
    {
     "name": "stderr",
     "output_type": "stream",
     "text": [
      "[Stage 71:>                                                         (0 + 1) / 1]"
     ]
    },
    {
     "name": "stdout",
     "output_type": "stream",
     "text": [
      "+------------+-------------+\n",
      "|   titleType|max_startYear|\n",
      "+------------+-------------+\n",
      "|       movie|         2031|\n",
      "|tvMiniSeries|         2030|\n",
      "|   tvEpisode|         2030|\n",
      "|       short|         2030|\n",
      "|    tvSeries|         2029|\n",
      "|     tvMovie|         2026|\n",
      "|   tvSpecial|         2026|\n",
      "|       video|         2026|\n",
      "|   videoGame|         2026|\n",
      "|     tvShort|         2025|\n",
      "|     tvPilot|         1991|\n",
      "+------------+-------------+\n",
      "\n"
     ]
    },
    {
     "name": "stderr",
     "output_type": "stream",
     "text": [
      "                                                                                "
     ]
    }
   ],
   "source": [
    "movies_df.groupBy(\"titleType\").agg(\n",
    "    max(\"startYear\").alias(\"max_startYear\")\n",
    ").orderBy(\"max_startYear\", ascending=False).show()"
   ]
  },
  {
   "cell_type": "code",
   "execution_count": 22,
   "id": "b007fa39-cf7b-4581-a85b-d4aab9961268",
   "metadata": {},
   "outputs": [
    {
     "name": "stderr",
     "output_type": "stream",
     "text": [
      "[Stage 74:>                                                         (0 + 1) / 1]"
     ]
    },
    {
     "name": "stdout",
     "output_type": "stream",
     "text": [
      "+----------+---------+------------+-------------+-------+---------+-------+--------------+------+\n",
      "|    tconst|titleType|primaryTitle|originalTitle|isAdult|startYear|endYear|runtimeMinutes|genres|\n",
      "+----------+---------+------------+-------------+-------+---------+-------+--------------+------+\n",
      "|tt15258334|  tvPilot|    TV Pilot|     TV Pilot|  false|     1991|   NULL|          NULL|    \\N|\n",
      "+----------+---------+------------+-------------+-------+---------+-------+--------------+------+\n",
      "\n"
     ]
    },
    {
     "name": "stderr",
     "output_type": "stream",
     "text": [
      "                                                                                "
     ]
    }
   ],
   "source": [
    "movies_df.where(col(\"titleType\") == 'tvPilot').show()"
   ]
  },
  {
   "cell_type": "code",
   "execution_count": null,
   "id": "f1faff9e-cda3-40dd-811b-fece834ff867",
   "metadata": {},
   "outputs": [],
   "source": [
    "This notebook leverages PySpark to efficiently explore and analyze the IMDb dataset, which contains structured information about movies, TV shows, ratings, crew, and industry professionals. Using PySpark’s distributed computing capabilities, we process large-scale data seamlessly, gaining insights into trends, ratings, genres, and more."
   ]
  }
 ],
 "metadata": {
  "kernelspec": {
   "display_name": "Python 3 (ipykernel)",
   "language": "python",
   "name": "python3"
  },
  "language_info": {
   "codemirror_mode": {
    "name": "ipython",
    "version": 3
   },
   "file_extension": ".py",
   "mimetype": "text/x-python",
   "name": "python",
   "nbconvert_exporter": "python",
   "pygments_lexer": "ipython3",
   "version": "3.11.9"
  }
 },
 "nbformat": 4,
 "nbformat_minor": 5
}
